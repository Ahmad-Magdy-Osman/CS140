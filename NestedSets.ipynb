{
 "cells": [
  {
   "cell_type": "markdown",
   "metadata": {},
   "source": [
    "# Nested Queries and Set Operations\n"
   ]
  },
  {
   "cell_type": "code",
   "execution_count": 6,
   "metadata": {},
   "outputs": [],
   "source": [
    "import warnings\n",
    "warnings.filterwarnings('ignore')\n",
    "from sols4 import *"
   ]
  },
  {
   "cell_type": "code",
   "execution_count": 7,
   "metadata": {},
   "outputs": [
    {
     "name": "stdout",
     "output_type": "stream",
     "text": [
      "The sql extension is already loaded. To reload it, use:\n",
      "  %reload_ext sql\n"
     ]
    }
   ],
   "source": [
    "%load_ext sql"
   ]
  },
  {
   "cell_type": "code",
   "execution_count": 8,
   "metadata": {},
   "outputs": [
    {
     "data": {
      "text/plain": [
       "'Connected: osmaah02@employees'"
      ]
     },
     "execution_count": 8,
     "metadata": {},
     "output_type": "execute_result"
    }
   ],
   "source": [
    "%sql postgresql://osmaah02:@localhost/employees"
   ]
  },
  {
   "cell_type": "markdown",
   "metadata": {},
   "source": [
    "### 1.  How many employees have not worked for the development department?"
   ]
  },
  {
   "cell_type": "code",
   "execution_count": 9,
   "metadata": {
    "deletable": false,
    "nbgrader": {
     "checksum": "4bbb0642d061e67442b03bc4c56fc921",
     "grade": false,
     "grade_id": "subq1",
     "locked": false,
     "solution": true
    }
   },
   "outputs": [
    {
     "name": "stdout",
     "output_type": "stream",
     "text": [
      "1 rows affected.\n"
     ]
    },
    {
     "data": {
      "text/html": [
       "<table>\n",
       "    <tr>\n",
       "        <th>count</th>\n",
       "    </tr>\n",
       "    <tr>\n",
       "        <td>214317</td>\n",
       "    </tr>\n",
       "</table>"
      ],
      "text/plain": [
       "[(214317,)]"
      ]
     },
     "execution_count": 9,
     "metadata": {},
     "output_type": "execute_result"
    }
   ],
   "source": [
    "%%sql\n",
    "\n",
    "SELECT COUNT(emp_no) FROM \n",
    "    (select emp_no from dept_emp\n",
    "        EXCEPT\n",
    "    select emp_no from dept_emp natural join departments where dept_name = 'Development') AS NotDev"
   ]
  },
  {
   "cell_type": "code",
   "execution_count": null,
   "metadata": {
    "deletable": false,
    "nbgrader": {
     "checksum": "d901eb41b62a83f7cbd9431bab45986b",
     "grade": true,
     "grade_id": "subq1_test",
     "locked": true,
     "points": 2,
     "solution": false
    },
    "scrolled": false
   },
   "outputs": [],
   "source": []
  },
  {
   "cell_type": "markdown",
   "metadata": {},
   "source": [
    "### 1.a  Select the first and last names of the first 10 employees ordered by last name, first name that have not worked for the development department."
   ]
  },
  {
   "cell_type": "code",
   "execution_count": 10,
   "metadata": {
    "deletable": false,
    "nbgrader": {
     "checksum": "f4649550fe499bdb86dd0d09352d69f7",
     "grade": false,
     "grade_id": "subq1a",
     "locked": false,
     "solution": true
    }
   },
   "outputs": [
    {
     "name": "stdout",
     "output_type": "stream",
     "text": [
      "10 rows affected.\n"
     ]
    },
    {
     "data": {
      "text/html": [
       "<table>\n",
       "    <tr>\n",
       "        <th>first_name</th>\n",
       "        <th>last_name</th>\n",
       "    </tr>\n",
       "    <tr>\n",
       "        <td>Aemilian</td>\n",
       "        <td>Aamodt</td>\n",
       "    </tr>\n",
       "    <tr>\n",
       "        <td>Aleksander</td>\n",
       "        <td>Aamodt</td>\n",
       "    </tr>\n",
       "    <tr>\n",
       "        <td>Alexius</td>\n",
       "        <td>Aamodt</td>\n",
       "    </tr>\n",
       "    <tr>\n",
       "        <td>Alois</td>\n",
       "        <td>Aamodt</td>\n",
       "    </tr>\n",
       "    <tr>\n",
       "        <td>Amabile</td>\n",
       "        <td>Aamodt</td>\n",
       "    </tr>\n",
       "    <tr>\n",
       "        <td>Anestis</td>\n",
       "        <td>Aamodt</td>\n",
       "    </tr>\n",
       "    <tr>\n",
       "        <td>Anwar</td>\n",
       "        <td>Aamodt</td>\n",
       "    </tr>\n",
       "    <tr>\n",
       "        <td>Arlette</td>\n",
       "        <td>Aamodt</td>\n",
       "    </tr>\n",
       "    <tr>\n",
       "        <td>Arumugam</td>\n",
       "        <td>Aamodt</td>\n",
       "    </tr>\n",
       "    <tr>\n",
       "        <td>Arunachalam</td>\n",
       "        <td>Aamodt</td>\n",
       "    </tr>\n",
       "</table>"
      ],
      "text/plain": [
       "[('Aemilian', 'Aamodt'),\n",
       " ('Aleksander', 'Aamodt'),\n",
       " ('Alexius', 'Aamodt'),\n",
       " ('Alois', 'Aamodt'),\n",
       " ('Amabile', 'Aamodt'),\n",
       " ('Anestis', 'Aamodt'),\n",
       " ('Anwar', 'Aamodt'),\n",
       " ('Arlette', 'Aamodt'),\n",
       " ('Arumugam', 'Aamodt'),\n",
       " ('Arunachalam', 'Aamodt')]"
      ]
     },
     "execution_count": 10,
     "metadata": {},
     "output_type": "execute_result"
    }
   ],
   "source": [
    "%%sql\n",
    "\n",
    "SELECT first_name, last_name FROM\n",
    "(\n",
    "(SELECT emp_no FROM employees)\n",
    "\n",
    "EXCEPT\n",
    "\n",
    "(SELECT emp_no \n",
    "FROM departments \n",
    "NATURAL JOIN dept_emp WHERE dept_name = 'Development')) AS dno\n",
    "\n",
    "NATURAL JOIN employees    \n",
    "ORDER BY last_name, first_name\n",
    "LIMIT 10;\n"
   ]
  },
  {
   "cell_type": "code",
   "execution_count": null,
   "metadata": {
    "deletable": false,
    "nbgrader": {
     "checksum": "30a291747ef1fa02b032456f900824c8",
     "grade": true,
     "grade_id": "subq1a_test",
     "locked": true,
     "points": 2,
     "solution": false
    },
    "scrolled": false
   },
   "outputs": [],
   "source": []
  },
  {
   "cell_type": "markdown",
   "metadata": {},
   "source": [
    "### 2.  Give the first name, last name of the first 10 employees that have not been a Senior Engineer or Senior Manager, order by employee number."
   ]
  },
  {
   "cell_type": "code",
   "execution_count": 11,
   "metadata": {},
   "outputs": [],
   "source": [
    "#use Senior Staff or Senior Engineer for titles -> no such thing as senior manager"
   ]
  },
  {
   "cell_type": "code",
   "execution_count": 12,
   "metadata": {
    "deletable": false,
    "nbgrader": {
     "checksum": "652a899a61b055fc5e5429b384348da2",
     "grade": false,
     "grade_id": "subq2",
     "locked": false,
     "solution": true
    }
   },
   "outputs": [
    {
     "name": "stdout",
     "output_type": "stream",
     "text": [
      "10 rows affected.\n"
     ]
    },
    {
     "data": {
      "text/html": [
       "<table>\n",
       "    <tr>\n",
       "        <th>first_name</th>\n",
       "        <th>last_name</th>\n",
       "    </tr>\n",
       "    <tr>\n",
       "        <td>Bezalel</td>\n",
       "        <td>Simmel</td>\n",
       "    </tr>\n",
       "    <tr>\n",
       "        <td>Saniya</td>\n",
       "        <td>Kalloufi</td>\n",
       "    </tr>\n",
       "    <tr>\n",
       "        <td>Duangkaew</td>\n",
       "        <td>Piveteau</td>\n",
       "    </tr>\n",
       "    <tr>\n",
       "        <td>Mary</td>\n",
       "        <td>Sluis</td>\n",
       "    </tr>\n",
       "    <tr>\n",
       "        <td>Berni</td>\n",
       "        <td>Genin</td>\n",
       "    </tr>\n",
       "    <tr>\n",
       "        <td>Kazuhito</td>\n",
       "        <td>Cappelletti</td>\n",
       "    </tr>\n",
       "    <tr>\n",
       "        <td>Lillian</td>\n",
       "        <td>Haddadi</td>\n",
       "    </tr>\n",
       "    <tr>\n",
       "        <td>Mayuko</td>\n",
       "        <td>Warwick</td>\n",
       "    </tr>\n",
       "    <tr>\n",
       "        <td>Ramzi</td>\n",
       "        <td>Erde</td>\n",
       "    </tr>\n",
       "    <tr>\n",
       "        <td>Shahaf</td>\n",
       "        <td>Famili</td>\n",
       "    </tr>\n",
       "</table>"
      ],
      "text/plain": [
       "[('Bezalel', 'Simmel'),\n",
       " ('Saniya', 'Kalloufi'),\n",
       " ('Duangkaew', 'Piveteau'),\n",
       " ('Mary', 'Sluis'),\n",
       " ('Berni', 'Genin'),\n",
       " ('Kazuhito', 'Cappelletti'),\n",
       " ('Lillian', 'Haddadi'),\n",
       " ('Mayuko', 'Warwick'),\n",
       " ('Ramzi', 'Erde'),\n",
       " ('Shahaf', 'Famili')]"
      ]
     },
     "execution_count": 12,
     "metadata": {},
     "output_type": "execute_result"
    }
   ],
   "source": [
    "%%sql\n",
    "\n",
    "SELECT first_name, last_name FROM\n",
    "    (SELECT emp_no FROM titles\n",
    "        EXCEPT\n",
    "    SELECT emp_no FROM titles where title = 'Senior Staff' or title = 'Senior Engineer') As NotSenior \n",
    "    Natural Join employees\n",
    "Order by emp_no\n",
    "LIMIT 10"
   ]
  },
  {
   "cell_type": "code",
   "execution_count": null,
   "metadata": {
    "deletable": false,
    "nbgrader": {
     "checksum": "b2cccf9895577b46d91af5c777c533c2",
     "grade": true,
     "grade_id": "subq2_test",
     "locked": true,
     "points": 2,
     "solution": false
    }
   },
   "outputs": [],
   "source": []
  },
  {
   "cell_type": "markdown",
   "metadata": {},
   "source": [
    "### 3.  How many departments has each manager managed?\n",
    "\n",
    "Your result should be in alphabetical order by last name, then first name"
   ]
  },
  {
   "cell_type": "code",
   "execution_count": 13,
   "metadata": {
    "deletable": false,
    "nbgrader": {
     "checksum": "844e1fa4e18f270bc02e9303c9383910",
     "grade": false,
     "grade_id": "subq3",
     "locked": false,
     "solution": true
    }
   },
   "outputs": [
    {
     "name": "stdout",
     "output_type": "stream",
     "text": [
      "24 rows affected.\n"
     ]
    },
    {
     "data": {
      "text/html": [
       "<table>\n",
       "    <tr>\n",
       "        <th>first_name</th>\n",
       "        <th>last_name</th>\n",
       "        <th>count</th>\n",
       "    </tr>\n",
       "    <tr>\n",
       "        <td>Ebru</td>\n",
       "        <td>Alpin</td>\n",
       "        <td>1</td>\n",
       "    </tr>\n",
       "    <tr>\n",
       "        <td>Tonny</td>\n",
       "        <td>Butterworth</td>\n",
       "        <td>1</td>\n",
       "    </tr>\n",
       "    <tr>\n",
       "        <td>Rosine</td>\n",
       "        <td>Cools</td>\n",
       "        <td>1</td>\n",
       "    </tr>\n",
       "    <tr>\n",
       "        <td>Leon</td>\n",
       "        <td>DasSarma</td>\n",
       "        <td>1</td>\n",
       "    </tr>\n",
       "    <tr>\n",
       "        <td>Oscar</td>\n",
       "        <td>Ghazalie</td>\n",
       "        <td>1</td>\n",
       "    </tr>\n",
       "    <tr>\n",
       "        <td>Marjo</td>\n",
       "        <td>Giarratana</td>\n",
       "        <td>1</td>\n",
       "    </tr>\n",
       "    <tr>\n",
       "        <td>DeForest</td>\n",
       "        <td>Hagimont</td>\n",
       "        <td>1</td>\n",
       "    </tr>\n",
       "    <tr>\n",
       "        <td>Rutger</td>\n",
       "        <td>Hofmeyr</td>\n",
       "        <td>1</td>\n",
       "    </tr>\n",
       "    <tr>\n",
       "        <td>Przemyslawa</td>\n",
       "        <td>Kaelbling</td>\n",
       "        <td>1</td>\n",
       "    </tr>\n",
       "    <tr>\n",
       "        <td>Hilary</td>\n",
       "        <td>Kambil</td>\n",
       "        <td>1</td>\n",
       "    </tr>\n",
       "    <tr>\n",
       "        <td>Shem</td>\n",
       "        <td>Kieras</td>\n",
       "        <td>1</td>\n",
       "    </tr>\n",
       "    <tr>\n",
       "        <td>Isamu</td>\n",
       "        <td>Legleitner</td>\n",
       "        <td>1</td>\n",
       "    </tr>\n",
       "    <tr>\n",
       "        <td>Margareta</td>\n",
       "        <td>Markovitch</td>\n",
       "        <td>1</td>\n",
       "    </tr>\n",
       "    <tr>\n",
       "        <td>Vishwani</td>\n",
       "        <td>Minakawa</td>\n",
       "        <td>1</td>\n",
       "    </tr>\n",
       "    <tr>\n",
       "        <td>Peternela</td>\n",
       "        <td>Onuegbe</td>\n",
       "        <td>1</td>\n",
       "    </tr>\n",
       "    <tr>\n",
       "        <td>Shirish</td>\n",
       "        <td>Ossenbruggen</td>\n",
       "        <td>1</td>\n",
       "    </tr>\n",
       "    <tr>\n",
       "        <td>Dung</td>\n",
       "        <td>Pesch</td>\n",
       "        <td>1</td>\n",
       "    </tr>\n",
       "    <tr>\n",
       "        <td>Sanjoy</td>\n",
       "        <td>Quadeer</td>\n",
       "        <td>1</td>\n",
       "    </tr>\n",
       "    <tr>\n",
       "        <td>Karsten</td>\n",
       "        <td>Sigstam</td>\n",
       "        <td>1</td>\n",
       "    </tr>\n",
       "    <tr>\n",
       "        <td>Xiaobin</td>\n",
       "        <td>Spinelli</td>\n",
       "        <td>1</td>\n",
       "    </tr>\n",
       "    <tr>\n",
       "        <td>Arie</td>\n",
       "        <td>Staelin</td>\n",
       "        <td>1</td>\n",
       "    </tr>\n",
       "    <tr>\n",
       "        <td>Yuchang</td>\n",
       "        <td>Weedman</td>\n",
       "        <td>1</td>\n",
       "    </tr>\n",
       "    <tr>\n",
       "        <td>Krassimir</td>\n",
       "        <td>Wegerle</td>\n",
       "        <td>1</td>\n",
       "    </tr>\n",
       "    <tr>\n",
       "        <td>Hauke</td>\n",
       "        <td>Zhang</td>\n",
       "        <td>1</td>\n",
       "    </tr>\n",
       "</table>"
      ],
      "text/plain": [
       "[('Ebru', 'Alpin', 1),\n",
       " ('Tonny', 'Butterworth', 1),\n",
       " ('Rosine', 'Cools', 1),\n",
       " ('Leon', 'DasSarma', 1),\n",
       " ('Oscar', 'Ghazalie', 1),\n",
       " ('Marjo', 'Giarratana', 1),\n",
       " ('DeForest', 'Hagimont', 1),\n",
       " ('Rutger', 'Hofmeyr', 1),\n",
       " ('Przemyslawa', 'Kaelbling', 1),\n",
       " ('Hilary', 'Kambil', 1),\n",
       " ('Shem', 'Kieras', 1),\n",
       " ('Isamu', 'Legleitner', 1),\n",
       " ('Margareta', 'Markovitch', 1),\n",
       " ('Vishwani', 'Minakawa', 1),\n",
       " ('Peternela', 'Onuegbe', 1),\n",
       " ('Shirish', 'Ossenbruggen', 1),\n",
       " ('Dung', 'Pesch', 1),\n",
       " ('Sanjoy', 'Quadeer', 1),\n",
       " ('Karsten', 'Sigstam', 1),\n",
       " ('Xiaobin', 'Spinelli', 1),\n",
       " ('Arie', 'Staelin', 1),\n",
       " ('Yuchang', 'Weedman', 1),\n",
       " ('Krassimir', 'Wegerle', 1),\n",
       " ('Hauke', 'Zhang', 1)]"
      ]
     },
     "execution_count": 13,
     "metadata": {},
     "output_type": "execute_result"
    }
   ],
   "source": [
    "%%sql\n",
    "SELECT first_name, last_name, COUNT\n",
    "FROM\n",
    "(SELECT emp_no, COUNT(*) \n",
    " FROM dept_manager \n",
    " GROUP BY emp_no) A -- deptmanager table has emp_no, dept_no, from_date, to_date\n",
    "\n",
    "NATURAL JOIN employees\n",
    "ORDER BY last_name, first_name;\n"
   ]
  },
  {
   "cell_type": "code",
   "execution_count": null,
   "metadata": {
    "deletable": false,
    "nbgrader": {
     "checksum": "cd3a5f0d8f7946d8f3ead7d65f61e6e5",
     "grade": true,
     "grade_id": "subq3_test",
     "locked": true,
     "points": 2,
     "solution": false
    }
   },
   "outputs": [],
   "source": []
  },
  {
   "cell_type": "markdown",
   "metadata": {},
   "source": [
    "### 4.  How many people were managed by Tonny Butterworth?"
   ]
  },
  {
   "cell_type": "code",
   "execution_count": 14,
   "metadata": {},
   "outputs": [],
   "source": [
    "#The checker gives 205 for all those tony managed and left while he was a manger managed after"
   ]
  },
  {
   "cell_type": "code",
   "execution_count": 15,
   "metadata": {
    "deletable": false,
    "nbgrader": {
     "checksum": "9067ffda6c2e7441b275778823131ff7",
     "grade": false,
     "grade_id": "subq4",
     "locked": false,
     "solution": true
    }
   },
   "outputs": [
    {
     "name": "stdout",
     "output_type": "stream",
     "text": [
      "1 rows affected.\n"
     ]
    },
    {
     "data": {
      "text/html": [
       "<table>\n",
       "    <tr>\n",
       "        <th>count</th>\n",
       "    </tr>\n",
       "    <tr>\n",
       "        <td>23580</td>\n",
       "    </tr>\n",
       "</table>"
      ],
      "text/plain": [
       "[(23580,)]"
      ]
     },
     "execution_count": 15,
     "metadata": {},
     "output_type": "execute_result"
    }
   ],
   "source": [
    "%%sql\n",
    "SELECT COUNT(*) \n",
    "FROM\n",
    "(SELECT dept_no, from_date, to_date\n",
    "FROM  dept_manager -- Brad joined with 'departments NATURAL JOIN' -- don't think necessary' \n",
    " NATURAL JOIN employees \n",
    "WHERE first_name = 'Tonny' and last_name = 'Butterworth') A\n",
    "\n",
    "JOIN dept_emp ON\n",
    "A.dept_no = dept_emp.dept_no \n",
    "AND \n",
    "((dept_emp.from_date<=A.from_date AND dept_emp.to_date>=A.to_date)\n",
    "OR\n",
    "(dept_emp.from_date>=A.from_date AND dept_emp.to_date<=A.to_date)\n",
    "OR\n",
    "(dept_emp.from_date>=A.from_date AND dept_emp.to_date>=A.to_date)\n",
    "OR\n",
    "(dept_emp.from_date<=A.from_date AND dept_emp.to_date<=A.to_date))\n",
    ";"
   ]
  },
  {
   "cell_type": "code",
   "execution_count": null,
   "metadata": {
    "deletable": false,
    "nbgrader": {
     "checksum": "0649e4d0ab0a6a48712212da75441435",
     "grade": true,
     "grade_id": "subq4_test",
     "locked": true,
     "points": 2,
     "solution": false
    }
   },
   "outputs": [],
   "source": []
  },
  {
   "cell_type": "markdown",
   "metadata": {},
   "source": [
    "### 5.  How many people have not been a manager?"
   ]
  },
  {
   "cell_type": "code",
   "execution_count": 16,
   "metadata": {
    "deletable": false,
    "nbgrader": {
     "checksum": "184cb99cc1d36f083dcd6da0c792cf25",
     "grade": false,
     "grade_id": "subq5",
     "locked": false,
     "solution": true
    }
   },
   "outputs": [
    {
     "name": "stdout",
     "output_type": "stream",
     "text": [
      "1 rows affected.\n"
     ]
    },
    {
     "data": {
      "text/html": [
       "<table>\n",
       "    <tr>\n",
       "        <th>count</th>\n",
       "    </tr>\n",
       "    <tr>\n",
       "        <td>300000</td>\n",
       "    </tr>\n",
       "</table>"
      ],
      "text/plain": [
       "[(300000,)]"
      ]
     },
     "execution_count": 16,
     "metadata": {},
     "output_type": "execute_result"
    }
   ],
   "source": [
    "%%sql\n",
    "\n",
    "SELECT COUNT(*) FROM\n",
    "(SELECT emp_no FROM employees\n",
    " \n",
    "EXCEPT\n",
    " \n",
    "SELECT emp_no FROM dept_manager) A;"
   ]
  },
  {
   "cell_type": "code",
   "execution_count": null,
   "metadata": {
    "deletable": false,
    "nbgrader": {
     "checksum": "2db8270cc891ed10a4acc127d1a7b404",
     "grade": true,
     "grade_id": "subq5_test",
     "locked": true,
     "points": 2,
     "solution": false
    }
   },
   "outputs": [],
   "source": []
  },
  {
   "cell_type": "markdown",
   "metadata": {},
   "source": [
    "### 6.  What is the average salary for the 1980's?  What is the average salary for the 1990's?\n",
    "\n",
    "Lets define this as salaries that both start and end in the same decade.  We will leave out any salaries that cross the boundary.\n",
    "\n",
    "Format the salaries using '$999,999.99'\n",
    "\n",
    "Your final answer should have two columns and two rows.  The columns should be labeled decade and average."
   ]
  },
  {
   "cell_type": "code",
   "execution_count": 17,
   "metadata": {
    "deletable": false,
    "nbgrader": {
     "checksum": "007db133e41038febffd581f3c25b7d0",
     "grade": false,
     "grade_id": "subq6",
     "locked": false,
     "solution": true
    }
   },
   "outputs": [
    {
     "name": "stdout",
     "output_type": "stream",
     "text": [
      "2 rows affected.\n"
     ]
    },
    {
     "data": {
      "text/html": [
       "<table>\n",
       "    <tr>\n",
       "        <th>decade</th>\n",
       "        <th>average</th>\n",
       "    </tr>\n",
       "    <tr>\n",
       "        <td>1980</td>\n",
       "        <td>$  54,985.51</td>\n",
       "    </tr>\n",
       "    <tr>\n",
       "        <td>1990</td>\n",
       "        <td>$  61,296.23</td>\n",
       "    </tr>\n",
       "</table>"
      ],
      "text/plain": [
       "[('1980', '$  54,985.51'), ('1990', '$  61,296.23')]"
      ]
     },
     "execution_count": 17,
     "metadata": {},
     "output_type": "execute_result"
    }
   ],
   "source": [
    "%%sql\n",
    "\n",
    "SELECT '1980'AS decade, TO_CHAR(AVG(salary),'$999,999.99') average\n",
    "FROM salaries\n",
    "WHERE from_date >= '1980-01-01' AND to_date <= '1989-12-31'\n",
    "\n",
    "UNION\n",
    "\n",
    "SELECT '1990', TO_CHAR(AVG(salary), '$999,999.99')\n",
    "FROM salaries\n",
    "WHERE from_date >= '1970-01-01' AND to_date <= '1999-12-31'\n",
    "\n",
    "\n",
    ";"
   ]
  },
  {
   "cell_type": "code",
   "execution_count": null,
   "metadata": {
    "deletable": false,
    "nbgrader": {
     "checksum": "ecd353a0f70053cc2e96d3f5b5ab4aed",
     "grade": true,
     "grade_id": "subq6_test",
     "locked": true,
     "points": 2,
     "solution": false
    }
   },
   "outputs": [],
   "source": []
  },
  {
   "cell_type": "markdown",
   "metadata": {},
   "source": [
    "### 8.  How many people have had 10 or more raises since January 1, 1990"
   ]
  },
  {
   "cell_type": "code",
   "execution_count": 18,
   "metadata": {},
   "outputs": [],
   "source": [
    "#The checker likes if you compare to the to-date"
   ]
  },
  {
   "cell_type": "code",
   "execution_count": 19,
   "metadata": {
    "deletable": false,
    "nbgrader": {
     "checksum": "47f93424918f8bfbf20828d914e7cac2",
     "grade": false,
     "grade_id": "subq8",
     "locked": false,
     "solution": true
    }
   },
   "outputs": [
    {
     "name": "stdout",
     "output_type": "stream",
     "text": [
      "1 rows affected.\n"
     ]
    },
    {
     "data": {
      "text/html": [
       "<table>\n",
       "    <tr>\n",
       "        <th>count</th>\n",
       "    </tr>\n",
       "    <tr>\n",
       "        <td>245432</td>\n",
       "    </tr>\n",
       "</table>"
      ],
      "text/plain": [
       "[(245432,)]"
      ]
     },
     "execution_count": 19,
     "metadata": {},
     "output_type": "execute_result"
    }
   ],
   "source": [
    "%%sql\n",
    "\n",
    "SELECT count(*) FROM\n",
    "(SELECT emp_no, COUNT(*) raisecount\n",
    "FROM salaries\n",
    "WHERE from_date >= '1979-05-05' --Quang suggests this is a more accurate date to compare with\n",
    "GROUP BY emp_no) A\n",
    "WHERE raisecount >= 5;"
   ]
  },
  {
   "cell_type": "code",
   "execution_count": null,
   "metadata": {
    "deletable": false,
    "nbgrader": {
     "checksum": "e149846f4372d2252221731dec2c62f7",
     "grade": true,
     "grade_id": "subq8_test",
     "locked": true,
     "points": 2,
     "solution": false
    }
   },
   "outputs": [],
   "source": []
  },
  {
   "cell_type": "code",
   "execution_count": null,
   "metadata": {},
   "outputs": [],
   "source": []
  }
 ],
 "metadata": {
  "kernelspec": {
   "display_name": "Python 3",
   "language": "python",
   "name": "python3"
  },
  "language_info": {
   "codemirror_mode": {
    "name": "ipython",
    "version": 3
   },
   "file_extension": ".py",
   "mimetype": "text/x-python",
   "name": "python",
   "nbconvert_exporter": "python",
   "pygments_lexer": "ipython3",
   "version": "3.5.1"
  }
 },
 "nbformat": 4,
 "nbformat_minor": 1
}
