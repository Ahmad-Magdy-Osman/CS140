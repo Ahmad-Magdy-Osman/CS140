{
 "cells": [
  {
   "cell_type": "markdown",
   "metadata": {},
   "source": [
    "## Aggregate Query Practice\n",
    "\n",
    "This assignment is to practice with the new SQL clauses\n",
    "\n",
    "* GROUP BY\n",
    "* HAVING\n",
    "\n",
    "\n",
    "Due:  By Class on Wed November 11\n"
   ]
  },
  {
   "cell_type": "code",
   "execution_count": 1,
   "metadata": {},
   "outputs": [],
   "source": [
    "# all of your notebooks and homework using SQL are going to start something like this\n",
    "import warnings\n",
    "warnings.filterwarnings('ignore')\n",
    "%load_ext sql\n",
    "\n"
   ]
  },
  {
   "cell_type": "code",
   "execution_count": 2,
   "metadata": {},
   "outputs": [
    {
     "data": {
      "text/plain": [
       "'Connected: osmaah02@world'"
      ]
     },
     "execution_count": 2,
     "metadata": {},
     "output_type": "execute_result"
    }
   ],
   "source": [
    "%sql postgresql://osmaah02:@localhost/world\n",
    "\n"
   ]
  },
  {
   "cell_type": "markdown",
   "metadata": {},
   "source": [
    "### Which government form has the highest average life expectancy?\n",
    "\n"
   ]
  },
  {
   "cell_type": "code",
   "execution_count": 3,
   "metadata": {
    "deletable": false,
    "nbgrader": {
     "checksum": "09043f64c4bcefcf23c893e47873da4e",
     "grade": true,
     "grade_id": "agg1",
     "locked": false,
     "points": 2,
     "solution": true
    }
   },
   "outputs": [
    {
     "name": "stdout",
     "output_type": "stream",
     "text": [
      "1 rows affected.\n"
     ]
    },
    {
     "data": {
      "text/html": [
       "<table>\n",
       "    <tr>\n",
       "        <th>governmentform</th>\n",
       "        <th>Life Expectancy</th>\n",
       "    </tr>\n",
       "    <tr>\n",
       "        <td>Parliamentary Coprincipality</td>\n",
       "        <td>83.5</td>\n",
       "    </tr>\n",
       "</table>"
      ],
      "text/plain": [
       "[('Parliamentary Coprincipality', 83.5)]"
      ]
     },
     "execution_count": 3,
     "metadata": {},
     "output_type": "execute_result"
    }
   ],
   "source": [
    "%%sql\n",
    "\n",
    "SELECT governmentform, max(lifeexpectancy) AS \"Life Expectancy\" FROM country\n",
    "GROUP BY governmentform ORDER BY max(lifeexpectancy) DESC LIMIT 1;"
   ]
  },
  {
   "cell_type": "markdown",
   "metadata": {},
   "source": [
    "### Calculate the surface area of the regions and sort in ascending order\n",
    "\n"
   ]
  },
  {
   "cell_type": "code",
   "execution_count": 4,
   "metadata": {
    "deletable": false,
    "nbgrader": {
     "checksum": "abc604d98beb5b7afa923935cd82e651",
     "grade": true,
     "grade_id": "agg2",
     "locked": false,
     "points": 2,
     "solution": true
    }
   },
   "outputs": [
    {
     "name": "stdout",
     "output_type": "stream",
     "text": [
      "25 rows affected.\n"
     ]
    },
    {
     "data": {
      "text/html": [
       "<table>\n",
       "    <tr>\n",
       "        <th>region</th>\n",
       "        <th>Surface Area</th>\n",
       "    </tr>\n",
       "    <tr>\n",
       "        <td>Micronesia/Caribbean</td>\n",
       "        <td>16.0</td>\n",
       "    </tr>\n",
       "    <tr>\n",
       "        <td>Micronesia</td>\n",
       "        <td>3102.0</td>\n",
       "    </tr>\n",
       "    <tr>\n",
       "        <td>Polynesia</td>\n",
       "        <td>8463.0</td>\n",
       "    </tr>\n",
       "    <tr>\n",
       "        <td>Baltic Countries</td>\n",
       "        <td>175117.0</td>\n",
       "    </tr>\n",
       "    <tr>\n",
       "        <td>Caribbean</td>\n",
       "        <td>234423.0</td>\n",
       "    </tr>\n",
       "    <tr>\n",
       "        <td>British Islands</td>\n",
       "        <td>313173.0</td>\n",
       "    </tr>\n",
       "    <tr>\n",
       "        <td>Melanesia</td>\n",
       "        <td>540774.0</td>\n",
       "    </tr>\n",
       "    <tr>\n",
       "        <td>Western Europe</td>\n",
       "        <td>1108460.0</td>\n",
       "    </tr>\n",
       "    <tr>\n",
       "        <td>Southern Europe</td>\n",
       "        <td>1316390.0</td>\n",
       "    </tr>\n",
       "    <tr>\n",
       "        <td>Nordic Countries</td>\n",
       "        <td>1321900.0</td>\n",
       "    </tr>\n",
       "    <tr>\n",
       "        <td>Central America</td>\n",
       "        <td>2479530.0</td>\n",
       "    </tr>\n",
       "    <tr>\n",
       "        <td>Southern Africa</td>\n",
       "        <td>2674780.0</td>\n",
       "    </tr>\n",
       "    <tr>\n",
       "        <td>Southeast Asia</td>\n",
       "        <td>4494800.0</td>\n",
       "    </tr>\n",
       "    <tr>\n",
       "        <td>Middle East</td>\n",
       "        <td>4820590.0</td>\n",
       "    </tr>\n",
       "    <tr>\n",
       "        <td>Western Africa</td>\n",
       "        <td>6138340.0</td>\n",
       "    </tr>\n",
       "    <tr>\n",
       "        <td>Eastern Africa</td>\n",
       "        <td>6299890.0</td>\n",
       "    </tr>\n",
       "    <tr>\n",
       "        <td>Central Africa</td>\n",
       "        <td>6612670.0</td>\n",
       "    </tr>\n",
       "    <tr>\n",
       "        <td>Australia and New Zealand</td>\n",
       "        <td>8011940.0</td>\n",
       "    </tr>\n",
       "    <tr>\n",
       "        <td>Northern Africa</td>\n",
       "        <td>8524700.0</td>\n",
       "    </tr>\n",
       "    <tr>\n",
       "        <td>Southern and Central Asia</td>\n",
       "        <td>10791100.0</td>\n",
       "    </tr>\n",
       "    <tr>\n",
       "        <td>Eastern Asia</td>\n",
       "        <td>11774500.0</td>\n",
       "    </tr>\n",
       "    <tr>\n",
       "        <td>Antarctica</td>\n",
       "        <td>13132100.0</td>\n",
       "    </tr>\n",
       "    <tr>\n",
       "        <td>South America</td>\n",
       "        <td>17864900.0</td>\n",
       "    </tr>\n",
       "    <tr>\n",
       "        <td>Eastern Europe</td>\n",
       "        <td>18814100.0</td>\n",
       "    </tr>\n",
       "    <tr>\n",
       "        <td>North America</td>\n",
       "        <td>21500500.0</td>\n",
       "    </tr>\n",
       "</table>"
      ],
      "text/plain": [
       "[('Micronesia/Caribbean', 16.0),\n",
       " ('Micronesia', 3102.0),\n",
       " ('Polynesia', 8463.0),\n",
       " ('Baltic Countries', 175117.0),\n",
       " ('Caribbean', 234423.0),\n",
       " ('British Islands', 313173.0),\n",
       " ('Melanesia', 540774.0),\n",
       " ('Western Europe', 1108460.0),\n",
       " ('Southern Europe', 1316390.0),\n",
       " ('Nordic Countries', 1321900.0),\n",
       " ('Central America', 2479530.0),\n",
       " ('Southern Africa', 2674780.0),\n",
       " ('Southeast Asia', 4494800.0),\n",
       " ('Middle East', 4820590.0),\n",
       " ('Western Africa', 6138340.0),\n",
       " ('Eastern Africa', 6299890.0),\n",
       " ('Central Africa', 6612670.0),\n",
       " ('Australia and New Zealand', 8011940.0),\n",
       " ('Northern Africa', 8524700.0),\n",
       " ('Southern and Central Asia', 10791100.0),\n",
       " ('Eastern Asia', 11774500.0),\n",
       " ('Antarctica', 13132100.0),\n",
       " ('South America', 17864900.0),\n",
       " ('Eastern Europe', 18814100.0),\n",
       " ('North America', 21500500.0)]"
      ]
     },
     "execution_count": 4,
     "metadata": {},
     "output_type": "execute_result"
    }
   ],
   "source": [
    "%%sql\n",
    "\n",
    "SELECT region, sum(surfacearea) AS \"Surface Area\" FROM country\n",
    "GROUP BY region ORDER BY sum(surfacearea) ASC;"
   ]
  },
  {
   "cell_type": "markdown",
   "metadata": {},
   "source": [
    "### which government types have the lowest average life expectancy?\n",
    "\n"
   ]
  },
  {
   "cell_type": "code",
   "execution_count": 5,
   "metadata": {
    "deletable": false,
    "nbgrader": {
     "checksum": "538a6aba00f818ad8cd07e57449035b4",
     "grade": true,
     "grade_id": "agg3",
     "locked": false,
     "points": 2,
     "solution": true
    }
   },
   "outputs": [
    {
     "name": "stdout",
     "output_type": "stream",
     "text": [
      "28 rows affected.\n"
     ]
    },
    {
     "data": {
      "text/html": [
       "<table>\n",
       "    <tr>\n",
       "        <th>governmentform</th>\n",
       "        <th>GNP</th>\n",
       "    </tr>\n",
       "    <tr>\n",
       "        <td>Independent Church State</td>\n",
       "        <td>9.0000000000000000</td>\n",
       "    </tr>\n",
       "    <tr>\n",
       "        <td>Nonmetropolitan Territory of New Zealand</td>\n",
       "        <td>33.3333333333333333</td>\n",
       "    </tr>\n",
       "    <tr>\n",
       "        <td>Occupied by Marocco</td>\n",
       "        <td>60.0000000000000000</td>\n",
       "    </tr>\n",
       "    <tr>\n",
       "        <td>Parlementary Monarchy</td>\n",
       "        <td>141.0000000000000000</td>\n",
       "    </tr>\n",
       "    <tr>\n",
       "        <td>Dependent Territory of the UK</td>\n",
       "        <td>394.1000000000000000</td>\n",
       "    </tr>\n",
       "    <tr>\n",
       "        <td>US Territory</td>\n",
       "        <td>510.3333333333333333</td>\n",
       "    </tr>\n",
       "    <tr>\n",
       "        <td>Nonmetropolitan Territory of France</td>\n",
       "        <td>1095.2500000000000000</td>\n",
       "    </tr>\n",
       "    <tr>\n",
       "        <td>Nonmetropolitan Territory of The Netherlands</td>\n",
       "        <td>1384.5000000000000000</td>\n",
       "    </tr>\n",
       "    <tr>\n",
       "        <td>Parliamentary Coprincipality</td>\n",
       "        <td>1630.0000000000000000</td>\n",
       "    </tr>\n",
       "    <tr>\n",
       "        <td>Overseas Department of France</td>\n",
       "        <td>3800.0000000000000000</td>\n",
       "    </tr>\n",
       "    <tr>\n",
       "        <td>Autonomous Area</td>\n",
       "        <td>4173.0000000000000000</td>\n",
       "    </tr>\n",
       "    <tr>\n",
       "        <td>Islamic Emirate</td>\n",
       "        <td>5976.0000000000000000</td>\n",
       "    </tr>\n",
       "    <tr>\n",
       "        <td>Monarchy (Emirate)</td>\n",
       "        <td>6366.0000000000000000</td>\n",
       "    </tr>\n",
       "    <tr>\n",
       "        <td>Monarchy (Sultanate)</td>\n",
       "        <td>14304.5000000000000000</td>\n",
       "    </tr>\n",
       "    <tr>\n",
       "        <td>Socialistic Republic</td>\n",
       "        <td>15034.666666666667</td>\n",
       "    </tr>\n",
       "    <tr>\n",
       "        <td>Commonwealth of the US</td>\n",
       "        <td>17050.000000000000</td>\n",
       "    </tr>\n",
       "    <tr>\n",
       "        <td>Constitutional Monarchy (Emirate)</td>\n",
       "        <td>27037.000000000000</td>\n",
       "    </tr>\n",
       "    <tr>\n",
       "        <td>Monarchy</td>\n",
       "        <td>29766.200000000000</td>\n",
       "    </tr>\n",
       "    <tr>\n",
       "        <td>Emirate Federation</td>\n",
       "        <td>37966.000000000000</td>\n",
       "    </tr>\n",
       "    <tr>\n",
       "        <td>Socialistic State</td>\n",
       "        <td>44806.000000000000</td>\n",
       "    </tr>\n",
       "    <tr>\n",
       "        <td>Republic</td>\n",
       "        <td>47921.751639344262</td>\n",
       "    </tr>\n",
       "    <tr>\n",
       "        <td>Special Administrative Region of China</td>\n",
       "        <td>86098.500000000000</td>\n",
       "    </tr>\n",
       "    <tr>\n",
       "        <td>Islamic Republic</td>\n",
       "        <td>102954.000000000000</td>\n",
       "    </tr>\n",
       "    <tr>\n",
       "        <td>Constitutional Monarchy</td>\n",
       "        <td>237960.896551724138</td>\n",
       "    </tr>\n",
       "    <tr>\n",
       "        <td>Federation</td>\n",
       "        <td>264478.000000000000</td>\n",
       "    </tr>\n",
       "    <tr>\n",
       "        <td>Constitutional Monarchy, Federation</td>\n",
       "        <td>317240.250000000000</td>\n",
       "    </tr>\n",
       "    <tr>\n",
       "        <td>Federal Republic</td>\n",
       "        <td>886683.866666666667</td>\n",
       "    </tr>\n",
       "    <tr>\n",
       "        <td>People&#x27;sRepublic</td>\n",
       "        <td>982268.000000000000</td>\n",
       "    </tr>\n",
       "</table>"
      ],
      "text/plain": [
       "[('Independent Church State', Decimal('9.0000000000000000')),\n",
       " ('Nonmetropolitan Territory of New Zealand', Decimal('33.3333333333333333')),\n",
       " ('Occupied by Marocco', Decimal('60.0000000000000000')),\n",
       " ('Parlementary Monarchy', Decimal('141.0000000000000000')),\n",
       " ('Dependent Territory of the UK', Decimal('394.1000000000000000')),\n",
       " ('US Territory', Decimal('510.3333333333333333')),\n",
       " ('Nonmetropolitan Territory of France', Decimal('1095.2500000000000000')),\n",
       " ('Nonmetropolitan Territory of The Netherlands', Decimal('1384.5000000000000000')),\n",
       " ('Parliamentary Coprincipality', Decimal('1630.0000000000000000')),\n",
       " ('Overseas Department of France', Decimal('3800.0000000000000000')),\n",
       " ('Autonomous Area', Decimal('4173.0000000000000000')),\n",
       " ('Islamic Emirate', Decimal('5976.0000000000000000')),\n",
       " ('Monarchy (Emirate)', Decimal('6366.0000000000000000')),\n",
       " ('Monarchy (Sultanate)', Decimal('14304.5000000000000000')),\n",
       " ('Socialistic Republic', Decimal('15034.666666666667')),\n",
       " ('Commonwealth of the US', Decimal('17050.000000000000')),\n",
       " ('Constitutional Monarchy (Emirate)', Decimal('27037.000000000000')),\n",
       " ('Monarchy', Decimal('29766.200000000000')),\n",
       " ('Emirate Federation', Decimal('37966.000000000000')),\n",
       " ('Socialistic State', Decimal('44806.000000000000')),\n",
       " ('Republic', Decimal('47921.751639344262')),\n",
       " ('Special Administrative Region of China', Decimal('86098.500000000000')),\n",
       " ('Islamic Republic', Decimal('102954.000000000000')),\n",
       " ('Constitutional Monarchy', Decimal('237960.896551724138')),\n",
       " ('Federation', Decimal('264478.000000000000')),\n",
       " ('Constitutional Monarchy, Federation', Decimal('317240.250000000000')),\n",
       " ('Federal Republic', Decimal('886683.866666666667')),\n",
       " (\"People'sRepublic\", Decimal('982268.000000000000'))]"
      ]
     },
     "execution_count": 5,
     "metadata": {},
     "output_type": "execute_result"
    }
   ],
   "source": [
    "%%sql\n",
    "\n",
    "SELECT governmentform, avg(gnp) AS \"GNP\" FROM country\n",
    "GROUP BY governmentform HAVING avg(gnp) > 0 ORDER BY avg(gnp) ASC;\n"
   ]
  },
  {
   "cell_type": "markdown",
   "metadata": {},
   "source": [
    "### What regions have a high average life expectancy?\n",
    "\n"
   ]
  },
  {
   "cell_type": "code",
   "execution_count": 6,
   "metadata": {
    "deletable": false,
    "nbgrader": {
     "checksum": "3a8a42b22a0a51b1d93ce779e76adc77",
     "grade": true,
     "grade_id": "agg4",
     "locked": false,
     "points": 2,
     "solution": true
    }
   },
   "outputs": [
    {
     "name": "stdout",
     "output_type": "stream",
     "text": [
      "25 rows affected.\n"
     ]
    },
    {
     "data": {
      "text/html": [
       "<table>\n",
       "    <tr>\n",
       "        <th>region</th>\n",
       "        <th>avg</th>\n",
       "    </tr>\n",
       "    <tr>\n",
       "        <td>Western Europe</td>\n",
       "        <td>78.2555567423503</td>\n",
       "    </tr>\n",
       "    <tr>\n",
       "        <td>British Islands</td>\n",
       "        <td>77.25</td>\n",
       "    </tr>\n",
       "    <tr>\n",
       "        <td>North America</td>\n",
       "        <td>75.8199996948242</td>\n",
       "    </tr>\n",
       "    <tr>\n",
       "        <td>Eastern Asia</td>\n",
       "        <td>75.25</td>\n",
       "    </tr>\n",
       "    <tr>\n",
       "        <td>Caribbean</td>\n",
       "        <td>73.0583332379659</td>\n",
       "    </tr>\n",
       "    <tr>\n",
       "        <td>Southern Europe</td>\n",
       "        <td>71.4266672770182</td>\n",
       "    </tr>\n",
       "    <tr>\n",
       "        <td>Central America</td>\n",
       "        <td>71.0249996185303</td>\n",
       "    </tr>\n",
       "    <tr>\n",
       "        <td>Middle East</td>\n",
       "        <td>70.5666671329074</td>\n",
       "    </tr>\n",
       "    <tr>\n",
       "        <td>Eastern Europe</td>\n",
       "        <td>69.9299995422363</td>\n",
       "    </tr>\n",
       "    <tr>\n",
       "        <td>Baltic Countries</td>\n",
       "        <td>69.0</td>\n",
       "    </tr>\n",
       "    <tr>\n",
       "        <td>Micronesia</td>\n",
       "        <td>68.0857140677316</td>\n",
       "    </tr>\n",
       "    <tr>\n",
       "        <td>Nordic Countries</td>\n",
       "        <td>67.1428571428571</td>\n",
       "    </tr>\n",
       "    <tr>\n",
       "        <td>Melanesia</td>\n",
       "        <td>67.1400009155273</td>\n",
       "    </tr>\n",
       "    <tr>\n",
       "        <td>South America</td>\n",
       "        <td>65.878570829119</td>\n",
       "    </tr>\n",
       "    <tr>\n",
       "        <td>Northern Africa</td>\n",
       "        <td>65.3857127598354</td>\n",
       "    </tr>\n",
       "    <tr>\n",
       "        <td>Southeast Asia</td>\n",
       "        <td>64.4000001387163</td>\n",
       "    </tr>\n",
       "    <tr>\n",
       "        <td>Southern and Central Asia</td>\n",
       "        <td>61.3500003814697</td>\n",
       "    </tr>\n",
       "    <tr>\n",
       "        <td>Western Africa</td>\n",
       "        <td>52.7411768296186</td>\n",
       "    </tr>\n",
       "    <tr>\n",
       "        <td>Central Africa</td>\n",
       "        <td>50.3111110263401</td>\n",
       "    </tr>\n",
       "    <tr>\n",
       "        <td>Eastern Africa</td>\n",
       "        <td>48.2699998855591</td>\n",
       "    </tr>\n",
       "    <tr>\n",
       "        <td>Southern Africa</td>\n",
       "        <td>44.8199996948242</td>\n",
       "    </tr>\n",
       "    <tr>\n",
       "        <td>Polynesia</td>\n",
       "        <td>42.4400001525879</td>\n",
       "    </tr>\n",
       "    <tr>\n",
       "        <td>Australia and New Zealand</td>\n",
       "        <td>31.5200012207031</td>\n",
       "    </tr>\n",
       "    <tr>\n",
       "        <td>Micronesia/Caribbean</td>\n",
       "        <td>0.0</td>\n",
       "    </tr>\n",
       "    <tr>\n",
       "        <td>Antarctica</td>\n",
       "        <td>0.0</td>\n",
       "    </tr>\n",
       "</table>"
      ],
      "text/plain": [
       "[('Western Europe', 78.2555567423503),\n",
       " ('British Islands', 77.25),\n",
       " ('North America', 75.8199996948242),\n",
       " ('Eastern Asia', 75.25),\n",
       " ('Caribbean', 73.0583332379659),\n",
       " ('Southern Europe', 71.4266672770182),\n",
       " ('Central America', 71.0249996185303),\n",
       " ('Middle East', 70.5666671329074),\n",
       " ('Eastern Europe', 69.9299995422363),\n",
       " ('Baltic Countries', 69.0),\n",
       " ('Micronesia', 68.0857140677316),\n",
       " ('Nordic Countries', 67.1428571428571),\n",
       " ('Melanesia', 67.1400009155273),\n",
       " ('South America', 65.878570829119),\n",
       " ('Northern Africa', 65.3857127598354),\n",
       " ('Southeast Asia', 64.4000001387163),\n",
       " ('Southern and Central Asia', 61.3500003814697),\n",
       " ('Western Africa', 52.7411768296186),\n",
       " ('Central Africa', 50.3111110263401),\n",
       " ('Eastern Africa', 48.2699998855591),\n",
       " ('Southern Africa', 44.8199996948242),\n",
       " ('Polynesia', 42.4400001525879),\n",
       " ('Australia and New Zealand', 31.5200012207031),\n",
       " ('Micronesia/Caribbean', 0.0),\n",
       " ('Antarctica', 0.0)]"
      ]
     },
     "execution_count": 6,
     "metadata": {},
     "output_type": "execute_result"
    }
   ],
   "source": [
    "%%sql\n",
    "\n",
    "SELECT region, avg(lifeexpectancy) FROM country\n",
    "GROUP BY region ORDER BY avg(lifeexpectancy) DESC"
   ]
  },
  {
   "cell_type": "markdown",
   "metadata": {},
   "source": [
    "### What is the most common form of government?\n",
    "\n"
   ]
  },
  {
   "cell_type": "code",
   "execution_count": 7,
   "metadata": {
    "deletable": false,
    "nbgrader": {
     "checksum": "b1ee2beeaf34ae70a0ac117d6e4a6908",
     "grade": true,
     "grade_id": "agg5",
     "locked": false,
     "points": 2,
     "solution": true
    }
   },
   "outputs": [
    {
     "name": "stdout",
     "output_type": "stream",
     "text": [
      "1 rows affected.\n"
     ]
    },
    {
     "data": {
      "text/html": [
       "<table>\n",
       "    <tr>\n",
       "        <th>governmentform</th>\n",
       "        <th>count</th>\n",
       "    </tr>\n",
       "    <tr>\n",
       "        <td>Republic</td>\n",
       "        <td>122</td>\n",
       "    </tr>\n",
       "</table>"
      ],
      "text/plain": [
       "[('Republic', 122)]"
      ]
     },
     "execution_count": 7,
     "metadata": {},
     "output_type": "execute_result"
    }
   ],
   "source": [
    "%%sql\n",
    "\n",
    "SELECT governmentform, count(*) FROM country\n",
    "GROUP BY governmentform ORDER BY count(*) DESC LIMIT 1"
   ]
  },
  {
   "cell_type": "markdown",
   "metadata": {},
   "source": [
    "### Which region has the highest total gnp?\n",
    "\n"
   ]
  },
  {
   "cell_type": "code",
   "execution_count": 8,
   "metadata": {
    "deletable": false,
    "nbgrader": {
     "checksum": "af899da72076a21d709ee6b2a2fa75cd",
     "grade": true,
     "grade_id": "agg6",
     "locked": false,
     "points": 2,
     "solution": true
    }
   },
   "outputs": [
    {
     "name": "stdout",
     "output_type": "stream",
     "text": [
      "1 rows affected.\n"
     ]
    },
    {
     "data": {
      "text/html": [
       "<table>\n",
       "    <tr>\n",
       "        <th>region</th>\n",
       "        <th>sum</th>\n",
       "    </tr>\n",
       "    <tr>\n",
       "        <td>Caribbean</td>\n",
       "        <td>1753.4</td>\n",
       "    </tr>\n",
       "</table>"
      ],
      "text/plain": [
       "[('Caribbean', 1753.4)]"
      ]
     },
     "execution_count": 8,
     "metadata": {},
     "output_type": "execute_result"
    }
   ],
   "source": [
    "%%sql\n",
    "\n",
    "SELECT region, SUM(lifeexpectancy) FROM country\n",
    "GROUP BY region ORDER BY SUM(lifeexpectancy) DESC LIMIT 1;"
   ]
  },
  {
   "cell_type": "markdown",
   "metadata": {},
   "source": [
    "### Show the 10 government forms with the largest population\n",
    "\n"
   ]
  },
  {
   "cell_type": "code",
   "execution_count": 9,
   "metadata": {
    "deletable": false,
    "nbgrader": {
     "checksum": "c080280572f8bf019aecc2e2014d801d",
     "grade": true,
     "grade_id": "agg7",
     "locked": false,
     "points": 2,
     "solution": true
    }
   },
   "outputs": [
    {
     "name": "stdout",
     "output_type": "stream",
     "text": [
      "10 rows affected.\n"
     ]
    },
    {
     "data": {
      "text/html": [
       "<table>\n",
       "    <tr>\n",
       "        <th>governmentform</th>\n",
       "        <th>sum</th>\n",
       "    </tr>\n",
       "    <tr>\n",
       "        <td>Federal Republic</td>\n",
       "        <td>2009320500</td>\n",
       "    </tr>\n",
       "    <tr>\n",
       "        <td>Republic</td>\n",
       "        <td>2003311200</td>\n",
       "    </tr>\n",
       "    <tr>\n",
       "        <td>People&#x27;sRepublic</td>\n",
       "        <td>1277558000</td>\n",
       "    </tr>\n",
       "    <tr>\n",
       "        <td>Constitutional Monarchy</td>\n",
       "        <td>405893000</td>\n",
       "    </tr>\n",
       "    <tr>\n",
       "        <td>Socialistic Republic</td>\n",
       "        <td>115072000</td>\n",
       "    </tr>\n",
       "    <tr>\n",
       "        <td>Islamic Republic</td>\n",
       "        <td>97192000</td>\n",
       "    </tr>\n",
       "    <tr>\n",
       "        <td>Constitutional Monarchy, Federation</td>\n",
       "        <td>82516000</td>\n",
       "    </tr>\n",
       "    <tr>\n",
       "        <td>Monarchy</td>\n",
       "        <td>25437000</td>\n",
       "    </tr>\n",
       "    <tr>\n",
       "        <td>Islamic Emirate</td>\n",
       "        <td>22720000</td>\n",
       "    </tr>\n",
       "    <tr>\n",
       "        <td>Special Administrative Region of China</td>\n",
       "        <td>7255000</td>\n",
       "    </tr>\n",
       "</table>"
      ],
      "text/plain": [
       "[('Federal Republic', 2009320500),\n",
       " ('Republic', 2003311200),\n",
       " (\"People'sRepublic\", 1277558000),\n",
       " ('Constitutional Monarchy', 405893000),\n",
       " ('Socialistic Republic', 115072000),\n",
       " ('Islamic Republic', 97192000),\n",
       " ('Constitutional Monarchy, Federation', 82516000),\n",
       " ('Monarchy', 25437000),\n",
       " ('Islamic Emirate', 22720000),\n",
       " ('Special Administrative Region of China', 7255000)]"
      ]
     },
     "execution_count": 9,
     "metadata": {},
     "output_type": "execute_result"
    }
   ],
   "source": [
    "%%sql\n",
    "\n",
    "SELECT governmentform, sum(population) FROM country\n",
    "GROUP BY governmentform ORDER BY sum(population) DESC LIMIT 10;"
   ]
  },
  {
   "cell_type": "markdown",
   "metadata": {},
   "source": [
    "### List the total population of each continent and order them from smallest to largest\n",
    "\n"
   ]
  },
  {
   "cell_type": "code",
   "execution_count": 10,
   "metadata": {
    "deletable": false,
    "nbgrader": {
     "checksum": "b3c9de872572e168be28b96368289219",
     "grade": true,
     "grade_id": "agg8",
     "locked": false,
     "points": 2,
     "solution": true
    }
   },
   "outputs": [
    {
     "name": "stdout",
     "output_type": "stream",
     "text": [
      "7 rows affected.\n"
     ]
    },
    {
     "data": {
      "text/html": [
       "<table>\n",
       "    <tr>\n",
       "        <th>continent</th>\n",
       "        <th>sum</th>\n",
       "    </tr>\n",
       "    <tr>\n",
       "        <td>Antarctica</td>\n",
       "        <td>0</td>\n",
       "    </tr>\n",
       "    <tr>\n",
       "        <td>Oceania</td>\n",
       "        <td>30401150</td>\n",
       "    </tr>\n",
       "    <tr>\n",
       "        <td>South America</td>\n",
       "        <td>345780000</td>\n",
       "    </tr>\n",
       "    <tr>\n",
       "        <td>North America</td>\n",
       "        <td>482993000</td>\n",
       "    </tr>\n",
       "    <tr>\n",
       "        <td>Europe</td>\n",
       "        <td>730074600</td>\n",
       "    </tr>\n",
       "    <tr>\n",
       "        <td>Africa</td>\n",
       "        <td>784475000</td>\n",
       "    </tr>\n",
       "    <tr>\n",
       "        <td>Asia</td>\n",
       "        <td>3705025700</td>\n",
       "    </tr>\n",
       "</table>"
      ],
      "text/plain": [
       "[('Antarctica', 0),\n",
       " ('Oceania', 30401150),\n",
       " ('South America', 345780000),\n",
       " ('North America', 482993000),\n",
       " ('Europe', 730074600),\n",
       " ('Africa', 784475000),\n",
       " ('Asia', 3705025700)]"
      ]
     },
     "execution_count": 10,
     "metadata": {},
     "output_type": "execute_result"
    }
   ],
   "source": [
    "%%sql\n",
    "\n",
    "SELECT continent, sum(population) FROM country\n",
    "GROUP BY continent ORDER BY sum(population) ASC"
   ]
  },
  {
   "cell_type": "markdown",
   "metadata": {},
   "source": [
    "### Show the total number of countries for each region in Europe"
   ]
  },
  {
   "cell_type": "code",
   "execution_count": 11,
   "metadata": {
    "deletable": false,
    "nbgrader": {
     "checksum": "b6be1d0afc5aa54bdeb807743787f3b7",
     "grade": true,
     "grade_id": "agg9",
     "locked": false,
     "points": 2,
     "solution": true
    }
   },
   "outputs": [
    {
     "name": "stdout",
     "output_type": "stream",
     "text": [
      "6 rows affected.\n"
     ]
    },
    {
     "data": {
      "text/html": [
       "<table>\n",
       "    <tr>\n",
       "        <th>region</th>\n",
       "        <th>count</th>\n",
       "    </tr>\n",
       "    <tr>\n",
       "        <td>British Islands</td>\n",
       "        <td>2</td>\n",
       "    </tr>\n",
       "    <tr>\n",
       "        <td>Baltic Countries</td>\n",
       "        <td>3</td>\n",
       "    </tr>\n",
       "    <tr>\n",
       "        <td>Nordic Countries</td>\n",
       "        <td>7</td>\n",
       "    </tr>\n",
       "    <tr>\n",
       "        <td>Western Europe</td>\n",
       "        <td>9</td>\n",
       "    </tr>\n",
       "    <tr>\n",
       "        <td>Eastern Europe</td>\n",
       "        <td>10</td>\n",
       "    </tr>\n",
       "    <tr>\n",
       "        <td>Southern Europe</td>\n",
       "        <td>15</td>\n",
       "    </tr>\n",
       "</table>"
      ],
      "text/plain": [
       "[('British Islands', 2),\n",
       " ('Baltic Countries', 3),\n",
       " ('Nordic Countries', 7),\n",
       " ('Western Europe', 9),\n",
       " ('Eastern Europe', 10),\n",
       " ('Southern Europe', 15)]"
      ]
     },
     "execution_count": 11,
     "metadata": {},
     "output_type": "execute_result"
    }
   ],
   "source": [
    "%%sql\n",
    "\n",
    "SELECT region, count(name) FROM country\n",
    "WHERE continent = 'Europe' GROUP By region ORDER BY count(name) ASC"
   ]
  },
  {
   "cell_type": "markdown",
   "metadata": {},
   "source": [
    "### List the total population of each region in Africa from lowest to highest."
   ]
  },
  {
   "cell_type": "code",
   "execution_count": 12,
   "metadata": {
    "deletable": false,
    "nbgrader": {
     "checksum": "c280c48369205664ba21218d3d83c9f4",
     "grade": true,
     "grade_id": "agg10",
     "locked": false,
     "points": 2,
     "solution": true
    }
   },
   "outputs": [
    {
     "name": "stdout",
     "output_type": "stream",
     "text": [
      "5 rows affected.\n"
     ]
    },
    {
     "data": {
      "text/html": [
       "<table>\n",
       "    <tr>\n",
       "        <th>region</th>\n",
       "        <th>sum</th>\n",
       "    </tr>\n",
       "    <tr>\n",
       "        <td>Southern Africa</td>\n",
       "        <td>46886000</td>\n",
       "    </tr>\n",
       "    <tr>\n",
       "        <td>Central Africa</td>\n",
       "        <td>95652000</td>\n",
       "    </tr>\n",
       "    <tr>\n",
       "        <td>Northern Africa</td>\n",
       "        <td>173266000</td>\n",
       "    </tr>\n",
       "    <tr>\n",
       "        <td>Western Africa</td>\n",
       "        <td>221672000</td>\n",
       "    </tr>\n",
       "    <tr>\n",
       "        <td>Eastern Africa</td>\n",
       "        <td>246999000</td>\n",
       "    </tr>\n",
       "</table>"
      ],
      "text/plain": [
       "[('Southern Africa', 46886000),\n",
       " ('Central Africa', 95652000),\n",
       " ('Northern Africa', 173266000),\n",
       " ('Western Africa', 221672000),\n",
       " ('Eastern Africa', 246999000)]"
      ]
     },
     "execution_count": 12,
     "metadata": {},
     "output_type": "execute_result"
    }
   ],
   "source": [
    "%%sql\n",
    "\n",
    "SELECT region, sum(population) FROM country\n",
    "WHERE continent = 'Africa' GROUP BY region ORDER BY sum(population) ASC"
   ]
  }
 ],
 "metadata": {
  "kernelspec": {
   "display_name": "Python 3",
   "language": "python",
   "name": "python3"
  },
  "language_info": {
   "codemirror_mode": {
    "name": "ipython",
    "version": 3
   },
   "file_extension": ".py",
   "mimetype": "text/x-python",
   "name": "python",
   "nbconvert_exporter": "python",
   "pygments_lexer": "ipython3",
   "version": "3.5.1"
  }
 },
 "nbformat": 4,
 "nbformat_minor": 1
}
