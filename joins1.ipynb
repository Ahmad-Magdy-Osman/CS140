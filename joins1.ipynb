{
 "cells": [
  {
   "cell_type": "markdown",
   "metadata": {},
   "source": [
    "# Join Practice\n",
    "\n",
    "We will make use of the employee database for this assignment.  You will get lots of practice with joins and natural joins.  You only have to provide your answer in SQL, but you may find it useful to draw out the relational algebra to help you organize your thinking.\n",
    "\n",
    "### Due:  See Syllabus"
   ]
  },
  {
   "cell_type": "code",
   "execution_count": 1,
   "metadata": {},
   "outputs": [],
   "source": [
    "import warnings\n",
    "warnings.filterwarnings('ignore')\n",
    "#from sols3 import *"
   ]
  },
  {
   "cell_type": "code",
   "execution_count": 2,
   "metadata": {},
   "outputs": [],
   "source": [
    "%load_ext sql"
   ]
  },
  {
   "cell_type": "code",
   "execution_count": 3,
   "metadata": {},
   "outputs": [
    {
     "data": {
      "text/plain": [
       "'Connected: osmaah02@employees'"
      ]
     },
     "execution_count": 3,
     "metadata": {},
     "output_type": "execute_result"
    }
   ],
   "source": [
    "%sql postgresql://osmaah02:@localhost/employees"
   ]
  },
  {
   "cell_type": "markdown",
   "metadata": {},
   "source": [
    "### 1. List the first and last name and hire date of each employee in the Sales Department hired before Feb 7, 1985 ordered by hire date"
   ]
  },
  {
   "cell_type": "code",
   "execution_count": 4,
   "metadata": {},
   "outputs": [],
   "source": [
    "#Go after all those who have ever been in the sales department \n",
    "#hired before 2/7/1985\n",
    "#80 rows not 55"
   ]
  },
  {
   "cell_type": "code",
   "execution_count": 5,
   "metadata": {
    "deletable": false,
    "nbgrader": {
     "checksum": "8ca4f79db4830b60e32e68f1f03fdb97",
     "grade": false,
     "grade_id": "join1_a",
     "locked": false,
     "solution": true
    },
    "scrolled": true
   },
   "outputs": [
    {
     "name": "stdout",
     "output_type": "stream",
     "text": [
      "55 rows affected.\n"
     ]
    },
    {
     "data": {
      "text/html": [
       "<table>\n",
       "    <tr>\n",
       "        <th>first_name</th>\n",
       "        <th>last_name</th>\n",
       "        <th>hire_date</th>\n",
       "    </tr>\n",
       "    <tr>\n",
       "        <td>Przemyslawa</td>\n",
       "        <td>Kaelbling</td>\n",
       "        <td>1985-01-01</td>\n",
       "    </tr>\n",
       "    <tr>\n",
       "        <td>Yongdong</td>\n",
       "        <td>Pileggi</td>\n",
       "        <td>1985-02-01</td>\n",
       "    </tr>\n",
       "    <tr>\n",
       "        <td>Shir</td>\n",
       "        <td>Munck</td>\n",
       "        <td>1985-02-01</td>\n",
       "    </tr>\n",
       "    <tr>\n",
       "        <td>Adil</td>\n",
       "        <td>Furedi</td>\n",
       "        <td>1985-02-01</td>\n",
       "    </tr>\n",
       "    <tr>\n",
       "        <td>Chaosheng</td>\n",
       "        <td>Sommen</td>\n",
       "        <td>1985-02-02</td>\n",
       "    </tr>\n",
       "    <tr>\n",
       "        <td>Guenter</td>\n",
       "        <td>Tanemo</td>\n",
       "        <td>1985-02-02</td>\n",
       "    </tr>\n",
       "    <tr>\n",
       "        <td>Erzsebet</td>\n",
       "        <td>Schwartzbauer</td>\n",
       "        <td>1985-02-02</td>\n",
       "    </tr>\n",
       "    <tr>\n",
       "        <td>Gay</td>\n",
       "        <td>Kumaresan</td>\n",
       "        <td>1985-02-02</td>\n",
       "    </tr>\n",
       "    <tr>\n",
       "        <td>Limsoon</td>\n",
       "        <td>Macedo</td>\n",
       "        <td>1985-02-02</td>\n",
       "    </tr>\n",
       "    <tr>\n",
       "        <td>Holgard</td>\n",
       "        <td>Pena</td>\n",
       "        <td>1985-02-02</td>\n",
       "    </tr>\n",
       "    <tr>\n",
       "        <td>Xinglin</td>\n",
       "        <td>Marakhovsky</td>\n",
       "        <td>1985-02-02</td>\n",
       "    </tr>\n",
       "    <tr>\n",
       "        <td>Kousuke</td>\n",
       "        <td>Swist</td>\n",
       "        <td>1985-02-02</td>\n",
       "    </tr>\n",
       "    <tr>\n",
       "        <td>Chikako</td>\n",
       "        <td>Malabarba</td>\n",
       "        <td>1985-02-02</td>\n",
       "    </tr>\n",
       "    <tr>\n",
       "        <td>Zita</td>\n",
       "        <td>Vural</td>\n",
       "        <td>1985-02-03</td>\n",
       "    </tr>\n",
       "    <tr>\n",
       "        <td>Fumitaka</td>\n",
       "        <td>Boyle</td>\n",
       "        <td>1985-02-03</td>\n",
       "    </tr>\n",
       "    <tr>\n",
       "        <td>Huan</td>\n",
       "        <td>Dahlbom</td>\n",
       "        <td>1985-02-03</td>\n",
       "    </tr>\n",
       "    <tr>\n",
       "        <td>Mitchel</td>\n",
       "        <td>Gustavson</td>\n",
       "        <td>1985-02-03</td>\n",
       "    </tr>\n",
       "    <tr>\n",
       "        <td>Godehard</td>\n",
       "        <td>Conte</td>\n",
       "        <td>1985-02-03</td>\n",
       "    </tr>\n",
       "    <tr>\n",
       "        <td>Premsyl</td>\n",
       "        <td>Nitto</td>\n",
       "        <td>1985-02-03</td>\n",
       "    </tr>\n",
       "    <tr>\n",
       "        <td>Halsur</td>\n",
       "        <td>Birrer</td>\n",
       "        <td>1985-02-03</td>\n",
       "    </tr>\n",
       "    <tr>\n",
       "        <td>Chiranjit</td>\n",
       "        <td>Stemann</td>\n",
       "        <td>1985-02-03</td>\n",
       "    </tr>\n",
       "    <tr>\n",
       "        <td>Nectarios</td>\n",
       "        <td>Perna</td>\n",
       "        <td>1985-02-03</td>\n",
       "    </tr>\n",
       "    <tr>\n",
       "        <td>Fumiyo</td>\n",
       "        <td>Cronau</td>\n",
       "        <td>1985-02-03</td>\n",
       "    </tr>\n",
       "    <tr>\n",
       "        <td>Shakhar</td>\n",
       "        <td>Sgarro</td>\n",
       "        <td>1985-02-03</td>\n",
       "    </tr>\n",
       "    <tr>\n",
       "        <td>Stafford</td>\n",
       "        <td>Luce</td>\n",
       "        <td>1985-02-04</td>\n",
       "    </tr>\n",
       "    <tr>\n",
       "        <td>Goa</td>\n",
       "        <td>Parfitt</td>\n",
       "        <td>1985-02-04</td>\n",
       "    </tr>\n",
       "    <tr>\n",
       "        <td>Eberhardt</td>\n",
       "        <td>Pramanik</td>\n",
       "        <td>1985-02-04</td>\n",
       "    </tr>\n",
       "    <tr>\n",
       "        <td>Khalid</td>\n",
       "        <td>Salinas</td>\n",
       "        <td>1985-02-04</td>\n",
       "    </tr>\n",
       "    <tr>\n",
       "        <td>Tran</td>\n",
       "        <td>Jiang</td>\n",
       "        <td>1985-02-04</td>\n",
       "    </tr>\n",
       "    <tr>\n",
       "        <td>Fox</td>\n",
       "        <td>Waschkowski</td>\n",
       "        <td>1985-02-04</td>\n",
       "    </tr>\n",
       "    <tr>\n",
       "        <td>Xiong</td>\n",
       "        <td>Chenoweth</td>\n",
       "        <td>1985-02-04</td>\n",
       "    </tr>\n",
       "    <tr>\n",
       "        <td>Arto</td>\n",
       "        <td>Argence</td>\n",
       "        <td>1985-02-04</td>\n",
       "    </tr>\n",
       "    <tr>\n",
       "        <td>Limsoon</td>\n",
       "        <td>Bage</td>\n",
       "        <td>1985-02-05</td>\n",
       "    </tr>\n",
       "    <tr>\n",
       "        <td>Goh</td>\n",
       "        <td>Linnainmaa</td>\n",
       "        <td>1985-02-05</td>\n",
       "    </tr>\n",
       "    <tr>\n",
       "        <td>Chiranjit</td>\n",
       "        <td>Ghelli</td>\n",
       "        <td>1985-02-05</td>\n",
       "    </tr>\n",
       "    <tr>\n",
       "        <td>Boutros</td>\n",
       "        <td>Velardi</td>\n",
       "        <td>1985-02-05</td>\n",
       "    </tr>\n",
       "    <tr>\n",
       "        <td>Gregory</td>\n",
       "        <td>Griswold</td>\n",
       "        <td>1985-02-05</td>\n",
       "    </tr>\n",
       "    <tr>\n",
       "        <td>Niteen</td>\n",
       "        <td>Matteis</td>\n",
       "        <td>1985-02-05</td>\n",
       "    </tr>\n",
       "    <tr>\n",
       "        <td>Vasilis</td>\n",
       "        <td>Pettis</td>\n",
       "        <td>1985-02-05</td>\n",
       "    </tr>\n",
       "    <tr>\n",
       "        <td>Rance</td>\n",
       "        <td>Chepyzhov</td>\n",
       "        <td>1985-02-05</td>\n",
       "    </tr>\n",
       "    <tr>\n",
       "        <td>Jaques</td>\n",
       "        <td>Hashii</td>\n",
       "        <td>1985-02-05</td>\n",
       "    </tr>\n",
       "    <tr>\n",
       "        <td>Goa</td>\n",
       "        <td>Swick</td>\n",
       "        <td>1985-02-05</td>\n",
       "    </tr>\n",
       "    <tr>\n",
       "        <td>Ramalingam</td>\n",
       "        <td>Validov</td>\n",
       "        <td>1985-02-05</td>\n",
       "    </tr>\n",
       "    <tr>\n",
       "        <td>Bedrich</td>\n",
       "        <td>Lubachevsky</td>\n",
       "        <td>1985-02-05</td>\n",
       "    </tr>\n",
       "    <tr>\n",
       "        <td>Ohad</td>\n",
       "        <td>Srimani</td>\n",
       "        <td>1985-02-05</td>\n",
       "    </tr>\n",
       "    <tr>\n",
       "        <td>Amalendu</td>\n",
       "        <td>Hiyoshi</td>\n",
       "        <td>1985-02-05</td>\n",
       "    </tr>\n",
       "    <tr>\n",
       "        <td>Nakhoon</td>\n",
       "        <td>Falby</td>\n",
       "        <td>1985-02-06</td>\n",
       "    </tr>\n",
       "    <tr>\n",
       "        <td>Adil</td>\n",
       "        <td>Uludag</td>\n",
       "        <td>1985-02-06</td>\n",
       "    </tr>\n",
       "    <tr>\n",
       "        <td>Horward</td>\n",
       "        <td>Steenbeek</td>\n",
       "        <td>1985-02-06</td>\n",
       "    </tr>\n",
       "    <tr>\n",
       "        <td>Pragnesh</td>\n",
       "        <td>Orlowska</td>\n",
       "        <td>1985-02-06</td>\n",
       "    </tr>\n",
       "    <tr>\n",
       "        <td>Xiaoqiang</td>\n",
       "        <td>Ferriere</td>\n",
       "        <td>1985-02-06</td>\n",
       "    </tr>\n",
       "    <tr>\n",
       "        <td>Noritoshi</td>\n",
       "        <td>Luff</td>\n",
       "        <td>1985-02-06</td>\n",
       "    </tr>\n",
       "    <tr>\n",
       "        <td>Hugo</td>\n",
       "        <td>Griswold</td>\n",
       "        <td>1985-02-06</td>\n",
       "    </tr>\n",
       "    <tr>\n",
       "        <td>Uriel</td>\n",
       "        <td>Daescu</td>\n",
       "        <td>1985-02-06</td>\n",
       "    </tr>\n",
       "    <tr>\n",
       "        <td>Dhritiman</td>\n",
       "        <td>Masamoto</td>\n",
       "        <td>1985-02-06</td>\n",
       "    </tr>\n",
       "</table>"
      ],
      "text/plain": [
       "[('Przemyslawa', 'Kaelbling', datetime.date(1985, 1, 1)),\n",
       " ('Yongdong', 'Pileggi', datetime.date(1985, 2, 1)),\n",
       " ('Shir', 'Munck', datetime.date(1985, 2, 1)),\n",
       " ('Adil', 'Furedi', datetime.date(1985, 2, 1)),\n",
       " ('Chaosheng', 'Sommen', datetime.date(1985, 2, 2)),\n",
       " ('Guenter', 'Tanemo', datetime.date(1985, 2, 2)),\n",
       " ('Erzsebet', 'Schwartzbauer', datetime.date(1985, 2, 2)),\n",
       " ('Gay', 'Kumaresan', datetime.date(1985, 2, 2)),\n",
       " ('Limsoon', 'Macedo', datetime.date(1985, 2, 2)),\n",
       " ('Holgard', 'Pena', datetime.date(1985, 2, 2)),\n",
       " ('Xinglin', 'Marakhovsky', datetime.date(1985, 2, 2)),\n",
       " ('Kousuke', 'Swist', datetime.date(1985, 2, 2)),\n",
       " ('Chikako', 'Malabarba', datetime.date(1985, 2, 2)),\n",
       " ('Zita', 'Vural', datetime.date(1985, 2, 3)),\n",
       " ('Fumitaka', 'Boyle', datetime.date(1985, 2, 3)),\n",
       " ('Huan', 'Dahlbom', datetime.date(1985, 2, 3)),\n",
       " ('Mitchel', 'Gustavson', datetime.date(1985, 2, 3)),\n",
       " ('Godehard', 'Conte', datetime.date(1985, 2, 3)),\n",
       " ('Premsyl', 'Nitto', datetime.date(1985, 2, 3)),\n",
       " ('Halsur', 'Birrer', datetime.date(1985, 2, 3)),\n",
       " ('Chiranjit', 'Stemann', datetime.date(1985, 2, 3)),\n",
       " ('Nectarios', 'Perna', datetime.date(1985, 2, 3)),\n",
       " ('Fumiyo', 'Cronau', datetime.date(1985, 2, 3)),\n",
       " ('Shakhar', 'Sgarro', datetime.date(1985, 2, 3)),\n",
       " ('Stafford', 'Luce', datetime.date(1985, 2, 4)),\n",
       " ('Goa', 'Parfitt', datetime.date(1985, 2, 4)),\n",
       " ('Eberhardt', 'Pramanik', datetime.date(1985, 2, 4)),\n",
       " ('Khalid', 'Salinas', datetime.date(1985, 2, 4)),\n",
       " ('Tran', 'Jiang', datetime.date(1985, 2, 4)),\n",
       " ('Fox', 'Waschkowski', datetime.date(1985, 2, 4)),\n",
       " ('Xiong', 'Chenoweth', datetime.date(1985, 2, 4)),\n",
       " ('Arto', 'Argence', datetime.date(1985, 2, 4)),\n",
       " ('Limsoon', 'Bage', datetime.date(1985, 2, 5)),\n",
       " ('Goh', 'Linnainmaa', datetime.date(1985, 2, 5)),\n",
       " ('Chiranjit', 'Ghelli', datetime.date(1985, 2, 5)),\n",
       " ('Boutros', 'Velardi', datetime.date(1985, 2, 5)),\n",
       " ('Gregory', 'Griswold', datetime.date(1985, 2, 5)),\n",
       " ('Niteen', 'Matteis', datetime.date(1985, 2, 5)),\n",
       " ('Vasilis', 'Pettis', datetime.date(1985, 2, 5)),\n",
       " ('Rance', 'Chepyzhov', datetime.date(1985, 2, 5)),\n",
       " ('Jaques', 'Hashii', datetime.date(1985, 2, 5)),\n",
       " ('Goa', 'Swick', datetime.date(1985, 2, 5)),\n",
       " ('Ramalingam', 'Validov', datetime.date(1985, 2, 5)),\n",
       " ('Bedrich', 'Lubachevsky', datetime.date(1985, 2, 5)),\n",
       " ('Ohad', 'Srimani', datetime.date(1985, 2, 5)),\n",
       " ('Amalendu', 'Hiyoshi', datetime.date(1985, 2, 5)),\n",
       " ('Nakhoon', 'Falby', datetime.date(1985, 2, 6)),\n",
       " ('Adil', 'Uludag', datetime.date(1985, 2, 6)),\n",
       " ('Horward', 'Steenbeek', datetime.date(1985, 2, 6)),\n",
       " ('Pragnesh', 'Orlowska', datetime.date(1985, 2, 6)),\n",
       " ('Xiaoqiang', 'Ferriere', datetime.date(1985, 2, 6)),\n",
       " ('Noritoshi', 'Luff', datetime.date(1985, 2, 6)),\n",
       " ('Hugo', 'Griswold', datetime.date(1985, 2, 6)),\n",
       " ('Uriel', 'Daescu', datetime.date(1985, 2, 6)),\n",
       " ('Dhritiman', 'Masamoto', datetime.date(1985, 2, 6))]"
      ]
     },
     "execution_count": 5,
     "metadata": {},
     "output_type": "execute_result"
    }
   ],
   "source": [
    "%%sql\n",
    "\n",
    "SELECT first_name, last_name, hire_date \n",
    "FROM employees NATURAL JOIN dept_emp NATURAL JOIN departments\n",
    "WHERE dept_name = 'Sales' AND hire_date<'1985-02-07'\n",
    "AND now()<to_date\n",
    "ORDER BY hire_date; --this gets all those currently in the sales dept hired before Feb 7, 1985\n",
    "-- checker wants all in the sales dept hired before Feb 7, 1985 regardless of whether they are there now or not\n"
   ]
  },
  {
   "cell_type": "code",
   "execution_count": 6,
   "metadata": {
    "deletable": false,
    "nbgrader": {
     "checksum": "661e1042690adf183e747f9313143066",
     "grade": true,
     "grade_id": "join1_t",
     "locked": true,
     "points": 2,
     "solution": false
    }
   },
   "outputs": [
    {
     "name": "stdout",
     "output_type": "stream",
     "text": [
      "Correct!\n"
     ]
    }
   ],
   "source": [
    "#Importing pandas library - used for converting users' result to a DataFrame ojbect\n",
    "import pandas\n",
    "\n",
    "#Importing create_engine method - used for connecting to the regarded database\n",
    "from sqlalchemy import create_engine\n",
    "\n",
    "#Connecting to the database in which the queries are made on - employees or movies\n",
    "databaseEngine = create_engine('postgresql://millbr02:@localhost/employees')\n",
    "\n",
    "#Converting student's query result into a DataFrame object that can be checked\n",
    "def toDataFrame(result):\n",
    "    return pandas.DataFrame(result, columns=(result and result.keys) or [])\n",
    "\n",
    "#Checking columns' number\n",
    "def colNumCheck(result, query):\n",
    "    if len(list(query.columns)) != len(list(result.columns)):\n",
    "        print(\"Error! You have a different number of columns than expected.\")\n",
    "        print(\"Number of columns expected:\", len(list(query.columns)) +'.')\n",
    "        assert False\n",
    "\n",
    "#Checking columns' names\n",
    "def colNameCheck(result, query):\n",
    "    if list(query.columns) != list(result.columns):\n",
    "        print(\"Error! Did you name the columns correctly?\")\n",
    "        print(\"Columns' names expected:\", ', '.join(list(query.columns)) + '.')\n",
    "        assert False\n",
    "\n",
    "#Checking rows number\n",
    "def rowNumCheck(result, query):\n",
    "    if type(query) != list:\n",
    "        query = [query]    \n",
    "    rowNum = [len(a) == len(result) for a in query]\n",
    "    if not any(rowNum):\n",
    "        ix = rowNum.index(False)\n",
    "        print(\"Error! Results are not the same length. I was expecting {} rows and your result has {} rows.\".format(len(query[ix]),len(result)))\n",
    "        assert False\n",
    "\n",
    "#Comparing the data within each row\n",
    "def rowDataCheck(result, query):\n",
    "    query = query.values.tolist()\n",
    "    result = result.values.tolist()\n",
    "    \n",
    "    differences = 0\n",
    "\n",
    "    for rowQuery in query:\n",
    "        if result[query.index(rowQuery)] != rowQuery:\n",
    "            differences += 1\n",
    "\n",
    "    if differences > 0:\n",
    "        if(rowSortedCheck(result, query) == False):\n",
    "            return False\n",
    "\n",
    "#Comparing sorted data for each row\n",
    "def rowSortedCheck(result, query):\n",
    "    query.sort()\n",
    "    result.sort()\n",
    "    \n",
    "    differences = 0\n",
    "\n",
    "    for rowQuery in query:\n",
    "        rowNum = query.index(rowQuery)\n",
    "        if result[rowNum] != rowQuery:\n",
    "          differences += 1\n",
    "    \n",
    "    if differences == 0:\n",
    "        print(\"Error! The data shape is correct, but not matching the final results. Did you order?\")\n",
    "        assert False\n",
    "    elif differences > 0:\n",
    "        print(\"Error! Line by line comparison shows that your query is invalid. Read the question carefully.\")\n",
    "        print(\"Your solution should be like the following table:\")\n",
    "        return False\n",
    "\n",
    "#Displaying the difference between the query's rows and the result's rows\n",
    "def showDiff(query):\n",
    "    print(query)\n",
    "    print()\n",
    "    assert False\n",
    "\n",
    "#The checker calling method for SQL\n",
    "def checkSQL(result, query):\n",
    "    result = toDataFrame(result)\n",
    "\n",
    "    #If there is only one approved solution for this answer, it must be a list\n",
    "    if type(query) != list:\n",
    "        query = [query] \n",
    "    \n",
    "    #Comparing the result with the solution query\n",
    "    query = pandas.read_sql_query(query[0], databaseEngine)\n",
    "\n",
    "    colNumCheck(result, query)\n",
    "    colNameCheck(result, query)\n",
    "    rowNumCheck(result, query)\n",
    "    if(rowDataCheck(result, query) == False):\n",
    "        showDiff(query)\n",
    "    \n",
    "    print(\"Correct!\")\n",
    "\n",
    "#The checker calling method for RA\n",
    "def checkRA(result, query):\n",
    "    colNumCheck(result, query)\n",
    "    colNameCheck(result, query)\n",
    "    rowNumCheck(result, query)\n",
    "    rowDataCheck(result, query)\n",
    "\n",
    "    print(\"Correct!\")\n",
    "\n",
    "###########################################################################################################################################################\n",
    "\n",
    "def checker_1(got):\n",
    "    q = '''\n",
    "SELECT first_name, last_name, hire_date \n",
    "FROM employees NATURAL JOIN dept_emp NATURAL JOIN departments\n",
    "WHERE dept_name = 'Sales' AND hire_date<'1985-02-07'\n",
    "AND now()<to_date\n",
    "ORDER BY hire_date; --this gets all those currently in the sales dept hired before Feb 7, 1985\n",
    "-- checker wants all in the sales dept hired before Feb 7, 1985 regardless of whether they are there now or not\n",
    "    '''\n",
    "    checkSQL(got,q)\n",
    "\n",
    "def checker_2(got):\n",
    "    q = '''\n",
    "SELECT dept_name, COUNT(*) \n",
    "FROM departments NATURAL JOIN dept_emp\n",
    "WHERE  now()<to_date\n",
    "GROUP BY (dept_name)\n",
    "ORDER BY COUNT(*) \n",
    "; --this first creates an intermediate result of all the emp dept instances and then filters for those current\n",
    "-- can count the instances w/o knowing the names\n",
    "    '''\n",
    "    checkSQL(got,q)\n",
    "\n",
    "def checker_3(got):\n",
    "    q = '''\n",
    "SELECT COUNT(*) \n",
    "FROM departments NATURAL JOIN dept_emp\n",
    "WHERE dept_name = 'Research'AND now() > to_date\n",
    "; -- if an employee has come in and out of research and no longer works there, how many times were they counted?\n",
    "    '''\n",
    "    checkSQL(got,q)\n",
    "\n",
    "def checker_4(got):\n",
    "    q = '''\n",
    "SELECT dept_name, MAX(hire_date)\n",
    "FROM  departments \n",
    "  NATURAL JOIN dept_emp \n",
    "  NATURAL JOIN employees\n",
    "GROUP BY dept_name \n",
    "\n",
    "-- this gets the last employee hire date of anyone that has ever worked in each dept \n",
    "\n",
    "\n",
    ";\n",
    "    '''\n",
    "    checkSQL(got,q)\n",
    "\n",
    "def checker_5(got):\n",
    "    q = '''\n",
    "SELECT first_name, last_name, from_date, to_date\n",
    "FROM departments NATURAL JOIN dept_manager NATURAL JOIN employees\n",
    "WHERE dept_name = 'Customer Service'\n",
    "ORDER BY from_date\n",
    ";\n",
    "    '''\n",
    "    checkSQL(got,q)\n",
    "\n",
    "def checker_6(got):\n",
    "    q = '''\n",
    "SELECT first_name, last_name, salary\n",
    "FROM salaries \n",
    "  NATURAL JOIN employees\n",
    "WHERE now()<to_date\n",
    "ORDER BY salary DESC\n",
    "LIMIT(10) --this gives currrent employees, we could get all time (including those no longer at firm) if we drop where\n",
    ";\n",
    "    '''\n",
    "    checkSQL(got,q)\n",
    "\n",
    "\n",
    "def checker_7(got):\n",
    "    q = '''\n",
    "SELECT DISTINCT first_name, last_name, salary, title --could be someone got a new title without a salary increase\n",
    "FROM employees \n",
    "  NATURAL JOIN salaries \n",
    "  JOIN titles ON employees.emp_no = titles.emp_no\n",
    "WHERE now()< salaries.to_date AND now()<titles.to_date\n",
    "ORDER BY salary DESC \n",
    "LIMIT(10) --this gives currrent employees, \n",
    "--we could get all time (including those no longer at firm)\n",
    ";\n",
    "    '''\n",
    "    checkSQL(got,q)\n",
    "\n",
    "def checker_8(got):\n",
    "    q = '''\n",
    "SELECT DISTINCT first_name, last_name, salary, dept_name\n",
    "FROM employees \n",
    "  NATURAL JOIN dept_emp \n",
    "  NATURAL JOIN departments \n",
    "  JOIN salaries ON employees.emp_no = salaries.emp_no\n",
    "WHERE now()< salaries.to_date \n",
    "ORDER BY salary  \n",
    "LIMIT(10) \n",
    "; -- currently employed and current salary...perhaps/likely many had lower salaries in the past\n",
    "    '''\n",
    "    checkSQL(got,q)\n",
    "\n",
    "def checker_9(got):\n",
    "    q = '''\n",
    "SELECT TO_CHAR(AVG(salary), '999,999.99')\n",
    "FROM  departments \n",
    "  NATURAL JOIN dept_emp \n",
    "  NATURAL JOIN employees \n",
    "  JOIN salaries ON employees.emp_no = salaries.emp_no \n",
    "WHERE gender = 'F' and now()<salaries.to_date and now()<dept_emp.to_date \n",
    "AND dept_name = 'Research';--This is all current female employees currently in research department \n",
    "    '''\n",
    "    checkSQL(got,q)\n",
    "\n",
    "def checker_10(got):\n",
    "    q = '''\n",
    "SELECT dept_name, gender, COUNT(*) \n",
    "FROM departments NATURAL JOIN dept_emp NATURAL JOIN employees\n",
    "WHERE now()<to_date\n",
    "GROUP BY dept_name, gender\n",
    "ORDER BY dept_name, gender; -- current employees\n",
    "    '''\n",
    "    checkSQL(got,q)\n",
    "    \n",
    "checker_1(_)"
   ]
  },
  {
   "cell_type": "markdown",
   "metadata": {},
   "source": [
    "### 2. How many employees currently work for each department (order from smallest to largest)?"
   ]
  },
  {
   "cell_type": "code",
   "execution_count": 7,
   "metadata": {},
   "outputs": [],
   "source": [
    "#The checker likes those who ever worked not \"currently work\"!"
   ]
  },
  {
   "cell_type": "code",
   "execution_count": 8,
   "metadata": {
    "deletable": false,
    "nbgrader": {
     "checksum": "fbd9f979fcc42133fca6e9504319ea92",
     "grade": false,
     "grade_id": "join2_a",
     "locked": false,
     "solution": true
    }
   },
   "outputs": [
    {
     "name": "stdout",
     "output_type": "stream",
     "text": [
      "9 rows affected.\n"
     ]
    },
    {
     "data": {
      "text/html": [
       "<table>\n",
       "    <tr>\n",
       "        <th>dept_name</th>\n",
       "        <th>count</th>\n",
       "    </tr>\n",
       "    <tr>\n",
       "        <td>Finance</td>\n",
       "        <td>12437</td>\n",
       "    </tr>\n",
       "    <tr>\n",
       "        <td>Human Resources</td>\n",
       "        <td>12898</td>\n",
       "    </tr>\n",
       "    <tr>\n",
       "        <td>Quality Management</td>\n",
       "        <td>14546</td>\n",
       "    </tr>\n",
       "    <tr>\n",
       "        <td>Marketing</td>\n",
       "        <td>14842</td>\n",
       "    </tr>\n",
       "    <tr>\n",
       "        <td>Research</td>\n",
       "        <td>15441</td>\n",
       "    </tr>\n",
       "    <tr>\n",
       "        <td>Customer Service</td>\n",
       "        <td>17569</td>\n",
       "    </tr>\n",
       "    <tr>\n",
       "        <td>Sales</td>\n",
       "        <td>37701</td>\n",
       "    </tr>\n",
       "    <tr>\n",
       "        <td>Production</td>\n",
       "        <td>53304</td>\n",
       "    </tr>\n",
       "    <tr>\n",
       "        <td>Development</td>\n",
       "        <td>61386</td>\n",
       "    </tr>\n",
       "</table>"
      ],
      "text/plain": [
       "[('Finance', 12437),\n",
       " ('Human Resources', 12898),\n",
       " ('Quality Management', 14546),\n",
       " ('Marketing', 14842),\n",
       " ('Research', 15441),\n",
       " ('Customer Service', 17569),\n",
       " ('Sales', 37701),\n",
       " ('Production', 53304),\n",
       " ('Development', 61386)]"
      ]
     },
     "execution_count": 8,
     "metadata": {},
     "output_type": "execute_result"
    }
   ],
   "source": [
    "%%sql\n",
    "\n",
    "SELECT dept_name, COUNT(*) \n",
    "FROM departments NATURAL JOIN dept_emp\n",
    "WHERE  now()<to_date\n",
    "GROUP BY (dept_name)\n",
    "ORDER BY COUNT(*) \n",
    "; --this first creates an intermediate result of all the emp dept instances and then filters for those current\n",
    "-- can count the instances w/o knowing the names"
   ]
  },
  {
   "cell_type": "code",
   "execution_count": null,
   "metadata": {
    "deletable": false,
    "nbgrader": {
     "checksum": "8c4aa77ebbe8f2cf1b6ef53f96174496",
     "grade": true,
     "grade_id": "join2_t",
     "locked": true,
     "points": 2,
     "solution": false
    }
   },
   "outputs": [],
   "source": []
  },
  {
   "cell_type": "markdown",
   "metadata": {},
   "source": [
    "### 3.  How many employees no longer work for the Research department?\n",
    "\n",
    "the answer should be a single row and column."
   ]
  },
  {
   "cell_type": "code",
   "execution_count": 9,
   "metadata": {
    "deletable": false,
    "nbgrader": {
     "checksum": "23fd65af688fd8c7de8cf537a77dc164",
     "grade": false,
     "grade_id": "join3_a",
     "locked": false,
     "solution": true
    }
   },
   "outputs": [
    {
     "name": "stdout",
     "output_type": "stream",
     "text": [
      "1 rows affected.\n"
     ]
    },
    {
     "data": {
      "text/html": [
       "<table>\n",
       "    <tr>\n",
       "        <th>count</th>\n",
       "    </tr>\n",
       "    <tr>\n",
       "        <td>5685</td>\n",
       "    </tr>\n",
       "</table>"
      ],
      "text/plain": [
       "[(5685,)]"
      ]
     },
     "execution_count": 9,
     "metadata": {},
     "output_type": "execute_result"
    }
   ],
   "source": [
    "%%sql\n",
    "\n",
    "SELECT COUNT(*) \n",
    "FROM departments NATURAL JOIN dept_emp NATURAL JOIN employees\n",
    "WHERE to_date < now() AND dept_name = 'Research'\n",
    "GROUP BY departments;"
   ]
  },
  {
   "cell_type": "code",
   "execution_count": null,
   "metadata": {
    "deletable": false,
    "nbgrader": {
     "checksum": "ae21a3836153357958abc4c92bfee1d0",
     "grade": true,
     "grade_id": "join3_t",
     "locked": true,
     "points": 2,
     "solution": false
    }
   },
   "outputs": [],
   "source": []
  },
  {
   "cell_type": "markdown",
   "metadata": {},
   "source": [
    "### 4. give the hire date of the last employee hired in each department"
   ]
  },
  {
   "cell_type": "code",
   "execution_count": 10,
   "metadata": {},
   "outputs": [],
   "source": [
    "#Three options\n",
    "#Do this: last hire date of anyone ever worked in each dep. regardless if they started in that department\n",
    "#The most recent one hired"
   ]
  },
  {
   "cell_type": "code",
   "execution_count": 11,
   "metadata": {
    "deletable": false,
    "nbgrader": {
     "checksum": "62b138e2fab2d299cf3f992514e59218",
     "grade": false,
     "grade_id": "join4_a",
     "locked": false,
     "solution": true
    }
   },
   "outputs": [
    {
     "name": "stdout",
     "output_type": "stream",
     "text": [
      "9 rows affected.\n"
     ]
    },
    {
     "data": {
      "text/html": [
       "<table>\n",
       "    <tr>\n",
       "        <th>dept_name</th>\n",
       "        <th>max</th>\n",
       "    </tr>\n",
       "    <tr>\n",
       "        <td>Research</td>\n",
       "        <td>1999-12-10</td>\n",
       "    </tr>\n",
       "    <tr>\n",
       "        <td>Sales</td>\n",
       "        <td>2000-01-04</td>\n",
       "    </tr>\n",
       "    <tr>\n",
       "        <td>Customer Service</td>\n",
       "        <td>2000-01-02</td>\n",
       "    </tr>\n",
       "    <tr>\n",
       "        <td>Marketing</td>\n",
       "        <td>2000-01-04</td>\n",
       "    </tr>\n",
       "    <tr>\n",
       "        <td>Human Resources</td>\n",
       "        <td>2000-01-13</td>\n",
       "    </tr>\n",
       "    <tr>\n",
       "        <td>Production</td>\n",
       "        <td>2000-01-23</td>\n",
       "    </tr>\n",
       "    <tr>\n",
       "        <td>Quality Management</td>\n",
       "        <td>2000-01-28</td>\n",
       "    </tr>\n",
       "    <tr>\n",
       "        <td>Development</td>\n",
       "        <td>2000-01-22</td>\n",
       "    </tr>\n",
       "    <tr>\n",
       "        <td>Finance</td>\n",
       "        <td>2000-01-06</td>\n",
       "    </tr>\n",
       "</table>"
      ],
      "text/plain": [
       "[('Research', datetime.date(1999, 12, 10)),\n",
       " ('Sales', datetime.date(2000, 1, 4)),\n",
       " ('Customer Service', datetime.date(2000, 1, 2)),\n",
       " ('Marketing', datetime.date(2000, 1, 4)),\n",
       " ('Human Resources', datetime.date(2000, 1, 13)),\n",
       " ('Production', datetime.date(2000, 1, 23)),\n",
       " ('Quality Management', datetime.date(2000, 1, 28)),\n",
       " ('Development', datetime.date(2000, 1, 22)),\n",
       " ('Finance', datetime.date(2000, 1, 6))]"
      ]
     },
     "execution_count": 11,
     "metadata": {},
     "output_type": "execute_result"
    }
   ],
   "source": [
    "%%sql\n",
    "\n",
    "SELECT dept_name, MAX(hire_date) FROM departments NATURAL JOIN dept_emp NATURAL JOIN employees\n",
    "GROUP BY dept_name;"
   ]
  },
  {
   "cell_type": "code",
   "execution_count": null,
   "metadata": {
    "deletable": false,
    "nbgrader": {
     "checksum": "db90737c7dca7897138f25450bc3f83c",
     "grade": true,
     "grade_id": "join4_t",
     "locked": true,
     "points": 2,
     "solution": false
    }
   },
   "outputs": [],
   "source": []
  },
  {
   "cell_type": "markdown",
   "metadata": {},
   "source": [
    "### 5. List names of all of the managers and their starting and ending dates who have manged the Customer Service department, order them from first to last."
   ]
  },
  {
   "cell_type": "code",
   "execution_count": 12,
   "metadata": {
    "deletable": false,
    "nbgrader": {
     "checksum": "fd151a8ec52ce6c50526fb9bad02c4ec",
     "grade": false,
     "grade_id": "join5_a",
     "locked": false,
     "solution": true
    }
   },
   "outputs": [
    {
     "name": "stdout",
     "output_type": "stream",
     "text": [
      "4 rows affected.\n"
     ]
    },
    {
     "data": {
      "text/html": [
       "<table>\n",
       "    <tr>\n",
       "        <th>first_name</th>\n",
       "        <th>last_name</th>\n",
       "        <th>from_date</th>\n",
       "        <th>to_date</th>\n",
       "    </tr>\n",
       "    <tr>\n",
       "        <td>Tonny</td>\n",
       "        <td>Butterworth</td>\n",
       "        <td>1985-01-01</td>\n",
       "        <td>1988-10-17</td>\n",
       "    </tr>\n",
       "    <tr>\n",
       "        <td>Marjo</td>\n",
       "        <td>Giarratana</td>\n",
       "        <td>1988-10-17</td>\n",
       "        <td>1992-09-08</td>\n",
       "    </tr>\n",
       "    <tr>\n",
       "        <td>Xiaobin</td>\n",
       "        <td>Spinelli</td>\n",
       "        <td>1992-09-08</td>\n",
       "        <td>1996-01-03</td>\n",
       "    </tr>\n",
       "    <tr>\n",
       "        <td>Yuchang</td>\n",
       "        <td>Weedman</td>\n",
       "        <td>1996-01-03</td>\n",
       "        <td>9999-01-01</td>\n",
       "    </tr>\n",
       "</table>"
      ],
      "text/plain": [
       "[('Tonny', 'Butterworth', datetime.date(1985, 1, 1), datetime.date(1988, 10, 17)),\n",
       " ('Marjo', 'Giarratana', datetime.date(1988, 10, 17), datetime.date(1992, 9, 8)),\n",
       " ('Xiaobin', 'Spinelli', datetime.date(1992, 9, 8), datetime.date(1996, 1, 3)),\n",
       " ('Yuchang', 'Weedman', datetime.date(1996, 1, 3), datetime.date(9999, 1, 1))]"
      ]
     },
     "execution_count": 12,
     "metadata": {},
     "output_type": "execute_result"
    }
   ],
   "source": [
    "%%sql\n",
    "SELECT first_name, last_name, from_date, to_date\n",
    "    FROM departments NATURAL JOIN dept_manager NATURAL JOIN employees\n",
    "WHERE dept_name = 'Customer Service'\n",
    "ORDER BY from_date, to_date;"
   ]
  },
  {
   "cell_type": "code",
   "execution_count": null,
   "metadata": {
    "deletable": false,
    "nbgrader": {
     "checksum": "a615226398b42a9b6fee0cd590a333a8",
     "grade": true,
     "grade_id": "join5_t",
     "locked": true,
     "points": 2,
     "solution": false
    }
   },
   "outputs": [],
   "source": []
  },
  {
   "cell_type": "markdown",
   "metadata": {},
   "source": [
    "### 6. Give the first name and last name and salary of the 10 highest paid employees"
   ]
  },
  {
   "cell_type": "code",
   "execution_count": 13,
   "metadata": {},
   "outputs": [],
   "source": [
    "#Use current employees - not ones left"
   ]
  },
  {
   "cell_type": "code",
   "execution_count": 14,
   "metadata": {
    "deletable": false,
    "nbgrader": {
     "checksum": "5bf0450f08445a7fce04e5923ded77ac",
     "grade": false,
     "grade_id": "join6_a",
     "locked": false,
     "solution": true
    }
   },
   "outputs": [
    {
     "name": "stdout",
     "output_type": "stream",
     "text": [
      "10 rows affected.\n"
     ]
    },
    {
     "data": {
      "text/html": [
       "<table>\n",
       "    <tr>\n",
       "        <th>first_name</th>\n",
       "        <th>last_name</th>\n",
       "        <th>salary</th>\n",
       "    </tr>\n",
       "    <tr>\n",
       "        <td>Tokuyasu</td>\n",
       "        <td>Pesch</td>\n",
       "        <td>158220</td>\n",
       "    </tr>\n",
       "    <tr>\n",
       "        <td>Honesty</td>\n",
       "        <td>Mukaidono</td>\n",
       "        <td>156286</td>\n",
       "    </tr>\n",
       "    <tr>\n",
       "        <td>Xiahua</td>\n",
       "        <td>Whitcomb</td>\n",
       "        <td>155709</td>\n",
       "    </tr>\n",
       "    <tr>\n",
       "        <td>Sanjai</td>\n",
       "        <td>Luders</td>\n",
       "        <td>155513</td>\n",
       "    </tr>\n",
       "    <tr>\n",
       "        <td>Tsutomu</td>\n",
       "        <td>Alameldin</td>\n",
       "        <td>155190</td>\n",
       "    </tr>\n",
       "    <tr>\n",
       "        <td>Willard</td>\n",
       "        <td>Baca</td>\n",
       "        <td>154459</td>\n",
       "    </tr>\n",
       "    <tr>\n",
       "        <td>Lidong</td>\n",
       "        <td>Meriste</td>\n",
       "        <td>154376</td>\n",
       "    </tr>\n",
       "    <tr>\n",
       "        <td>Charmane</td>\n",
       "        <td>Griswold</td>\n",
       "        <td>153715</td>\n",
       "    </tr>\n",
       "    <tr>\n",
       "        <td>Weijing</td>\n",
       "        <td>Chenoweth</td>\n",
       "        <td>152710</td>\n",
       "    </tr>\n",
       "    <tr>\n",
       "        <td>Weicheng</td>\n",
       "        <td>Hatcliff</td>\n",
       "        <td>152687</td>\n",
       "    </tr>\n",
       "</table>"
      ],
      "text/plain": [
       "[('Tokuyasu', 'Pesch', 158220),\n",
       " ('Honesty', 'Mukaidono', 156286),\n",
       " ('Xiahua', 'Whitcomb', 155709),\n",
       " ('Sanjai', 'Luders', 155513),\n",
       " ('Tsutomu', 'Alameldin', 155190),\n",
       " ('Willard', 'Baca', 154459),\n",
       " ('Lidong', 'Meriste', 154376),\n",
       " ('Charmane', 'Griswold', 153715),\n",
       " ('Weijing', 'Chenoweth', 152710),\n",
       " ('Weicheng', 'Hatcliff', 152687)]"
      ]
     },
     "execution_count": 14,
     "metadata": {},
     "output_type": "execute_result"
    }
   ],
   "source": [
    "%%sql\n",
    "\n",
    "SELECT first_name, last_name, salary\n",
    "    FROM employees NATURAL JOIN salaries\n",
    "WHERE now() < to_date\n",
    "ORDER BY salary DESC\n",
    "LIMIT 10;"
   ]
  },
  {
   "cell_type": "code",
   "execution_count": null,
   "metadata": {
    "deletable": false,
    "nbgrader": {
     "checksum": "60a04bd41841c98279a05c78f605ff59",
     "grade": true,
     "grade_id": "join6_t",
     "locked": true,
     "points": 2,
     "solution": false
    }
   },
   "outputs": [],
   "source": []
  },
  {
   "cell_type": "markdown",
   "metadata": {},
   "source": [
    "### 7. Give the first name, last name, salary, and title of the 10 highest paid employees"
   ]
  },
  {
   "cell_type": "code",
   "execution_count": 15,
   "metadata": {},
   "outputs": [],
   "source": [
    "#current employees"
   ]
  },
  {
   "cell_type": "code",
   "execution_count": 16,
   "metadata": {
    "deletable": false,
    "nbgrader": {
     "checksum": "c1b3c48798b99e640c95bda4e57220ae",
     "grade": false,
     "grade_id": "join7_a",
     "locked": false,
     "solution": true
    }
   },
   "outputs": [
    {
     "name": "stdout",
     "output_type": "stream",
     "text": [
      "10 rows affected.\n"
     ]
    },
    {
     "data": {
      "text/html": [
       "<table>\n",
       "    <tr>\n",
       "        <th>first_name</th>\n",
       "        <th>last_name</th>\n",
       "        <th>salary</th>\n",
       "        <th>title</th>\n",
       "    </tr>\n",
       "    <tr>\n",
       "        <td>Tokuyasu</td>\n",
       "        <td>Pesch</td>\n",
       "        <td>158220</td>\n",
       "        <td>Senior Staff</td>\n",
       "    </tr>\n",
       "    <tr>\n",
       "        <td>Honesty</td>\n",
       "        <td>Mukaidono</td>\n",
       "        <td>156286</td>\n",
       "        <td>Senior Staff</td>\n",
       "    </tr>\n",
       "    <tr>\n",
       "        <td>Xiahua</td>\n",
       "        <td>Whitcomb</td>\n",
       "        <td>155709</td>\n",
       "        <td>Senior Staff</td>\n",
       "    </tr>\n",
       "    <tr>\n",
       "        <td>Sanjai</td>\n",
       "        <td>Luders</td>\n",
       "        <td>155513</td>\n",
       "        <td>Senior Staff</td>\n",
       "    </tr>\n",
       "    <tr>\n",
       "        <td>Tsutomu</td>\n",
       "        <td>Alameldin</td>\n",
       "        <td>155190</td>\n",
       "        <td>Senior Staff</td>\n",
       "    </tr>\n",
       "    <tr>\n",
       "        <td>Willard</td>\n",
       "        <td>Baca</td>\n",
       "        <td>154459</td>\n",
       "        <td>Senior Staff</td>\n",
       "    </tr>\n",
       "    <tr>\n",
       "        <td>Lidong</td>\n",
       "        <td>Meriste</td>\n",
       "        <td>154376</td>\n",
       "        <td>Senior Staff</td>\n",
       "    </tr>\n",
       "    <tr>\n",
       "        <td>Charmane</td>\n",
       "        <td>Griswold</td>\n",
       "        <td>153715</td>\n",
       "        <td>Senior Staff</td>\n",
       "    </tr>\n",
       "    <tr>\n",
       "        <td>Weijing</td>\n",
       "        <td>Chenoweth</td>\n",
       "        <td>152710</td>\n",
       "        <td>Senior Staff</td>\n",
       "    </tr>\n",
       "    <tr>\n",
       "        <td>Weicheng</td>\n",
       "        <td>Hatcliff</td>\n",
       "        <td>152687</td>\n",
       "        <td>Senior Staff</td>\n",
       "    </tr>\n",
       "</table>"
      ],
      "text/plain": [
       "[('Tokuyasu', 'Pesch', 158220, 'Senior Staff'),\n",
       " ('Honesty', 'Mukaidono', 156286, 'Senior Staff'),\n",
       " ('Xiahua', 'Whitcomb', 155709, 'Senior Staff'),\n",
       " ('Sanjai', 'Luders', 155513, 'Senior Staff'),\n",
       " ('Tsutomu', 'Alameldin', 155190, 'Senior Staff'),\n",
       " ('Willard', 'Baca', 154459, 'Senior Staff'),\n",
       " ('Lidong', 'Meriste', 154376, 'Senior Staff'),\n",
       " ('Charmane', 'Griswold', 153715, 'Senior Staff'),\n",
       " ('Weijing', 'Chenoweth', 152710, 'Senior Staff'),\n",
       " ('Weicheng', 'Hatcliff', 152687, 'Senior Staff')]"
      ]
     },
     "execution_count": 16,
     "metadata": {},
     "output_type": "execute_result"
    }
   ],
   "source": [
    "%%sql\n",
    "SELECT first_name, last_name, salary, title\n",
    "    FROM employees NATURAL JOIN salaries JOIN titles ON titles.emp_no = employees.emp_no\n",
    "WHERE now() < titles.to_date and now() < salaries.to_date\n",
    "ORDER BY salary DESC\n",
    "LIMIT 10;"
   ]
  },
  {
   "cell_type": "code",
   "execution_count": null,
   "metadata": {
    "deletable": false,
    "nbgrader": {
     "checksum": "2073c0998760417877b00ae3fa25e4ec",
     "grade": true,
     "grade_id": "join7_t",
     "locked": true,
     "points": 2,
     "solution": false
    }
   },
   "outputs": [],
   "source": []
  },
  {
   "cell_type": "markdown",
   "metadata": {},
   "source": [
    "### 8. Give the  first and last name, salary, and department of the 10 lowest paid employees\n"
   ]
  },
  {
   "cell_type": "code",
   "execution_count": 17,
   "metadata": {},
   "outputs": [],
   "source": [
    "#current employees"
   ]
  },
  {
   "cell_type": "code",
   "execution_count": 18,
   "metadata": {
    "deletable": false,
    "nbgrader": {
     "checksum": "f168d6d0a3428e15f8f492699da1d9d4",
     "grade": false,
     "grade_id": "join8_a",
     "locked": false,
     "solution": true
    }
   },
   "outputs": [
    {
     "name": "stdout",
     "output_type": "stream",
     "text": [
      "10 rows affected.\n"
     ]
    },
    {
     "data": {
      "text/html": [
       "<table>\n",
       "    <tr>\n",
       "        <th>first_name</th>\n",
       "        <th>last_name</th>\n",
       "        <th>salary</th>\n",
       "        <th>dept_name</th>\n",
       "    </tr>\n",
       "    <tr>\n",
       "        <td>Olivera</td>\n",
       "        <td>Baek</td>\n",
       "        <td>38623</td>\n",
       "        <td>Production</td>\n",
       "    </tr>\n",
       "    <tr>\n",
       "        <td>Pascal</td>\n",
       "        <td>Lueh</td>\n",
       "        <td>38936</td>\n",
       "        <td>Human Resources</td>\n",
       "    </tr>\n",
       "    <tr>\n",
       "        <td>Sachar</td>\n",
       "        <td>Nicolson</td>\n",
       "        <td>38942</td>\n",
       "        <td>Quality Management</td>\n",
       "    </tr>\n",
       "    <tr>\n",
       "        <td>Yurij</td>\n",
       "        <td>Narwekar</td>\n",
       "        <td>39012</td>\n",
       "        <td>Finance</td>\n",
       "    </tr>\n",
       "    <tr>\n",
       "        <td>Oldrich</td>\n",
       "        <td>Schmiedel</td>\n",
       "        <td>39036</td>\n",
       "        <td>Development</td>\n",
       "    </tr>\n",
       "    <tr>\n",
       "        <td>Gianluca</td>\n",
       "        <td>Talmor</td>\n",
       "        <td>39117</td>\n",
       "        <td>Quality Management</td>\n",
       "    </tr>\n",
       "    <tr>\n",
       "        <td>Marie</td>\n",
       "        <td>Marrakchi</td>\n",
       "        <td>39186</td>\n",
       "        <td>Research</td>\n",
       "    </tr>\n",
       "    <tr>\n",
       "        <td>Xiaopeng</td>\n",
       "        <td>Piancastelli</td>\n",
       "        <td>39227</td>\n",
       "        <td>Human Resources</td>\n",
       "    </tr>\n",
       "    <tr>\n",
       "        <td>Angus</td>\n",
       "        <td>Schlumberger</td>\n",
       "        <td>39264</td>\n",
       "        <td>Research</td>\n",
       "    </tr>\n",
       "    <tr>\n",
       "        <td>Vidar</td>\n",
       "        <td>Turnbull</td>\n",
       "        <td>39285</td>\n",
       "        <td>Production</td>\n",
       "    </tr>\n",
       "</table>"
      ],
      "text/plain": [
       "[('Olivera', 'Baek', 38623, 'Production'),\n",
       " ('Pascal', 'Lueh', 38936, 'Human Resources'),\n",
       " ('Sachar', 'Nicolson', 38942, 'Quality Management'),\n",
       " ('Yurij', 'Narwekar', 39012, 'Finance'),\n",
       " ('Oldrich', 'Schmiedel', 39036, 'Development'),\n",
       " ('Gianluca', 'Talmor', 39117, 'Quality Management'),\n",
       " ('Marie', 'Marrakchi', 39186, 'Research'),\n",
       " ('Xiaopeng', 'Piancastelli', 39227, 'Human Resources'),\n",
       " ('Angus', 'Schlumberger', 39264, 'Research'),\n",
       " ('Vidar', 'Turnbull', 39285, 'Production')]"
      ]
     },
     "execution_count": 18,
     "metadata": {},
     "output_type": "execute_result"
    }
   ],
   "source": [
    "%%sql\n",
    "SELECT first_name, last_name, salary, dept_name\n",
    "    FROM employees NATURAL JOIN dept_emp NATURAL JOIN departments \n",
    "    JOIN salaries ON salaries.emp_no = employees.emp_no\n",
    "WHERE now() < salaries.to_date and now() < dept_emp.to_date\n",
    "ORDER BY salary\n",
    "LIMIT 10;"
   ]
  },
  {
   "cell_type": "code",
   "execution_count": null,
   "metadata": {
    "deletable": false,
    "nbgrader": {
     "checksum": "18d0613168f18b7ab3b858a80063f020",
     "grade": true,
     "grade_id": "join8_t",
     "locked": true,
     "points": 2,
     "solution": false
    }
   },
   "outputs": [],
   "source": []
  },
  {
   "cell_type": "markdown",
   "metadata": {},
   "source": [
    "### 9. What is the average salary of a female in the research department?"
   ]
  },
  {
   "cell_type": "code",
   "execution_count": 19,
   "metadata": {},
   "outputs": [],
   "source": [
    "#all time employees, not just current"
   ]
  },
  {
   "cell_type": "code",
   "execution_count": 20,
   "metadata": {
    "deletable": false,
    "nbgrader": {
     "checksum": "c6ab242fd5ebea08ccd16ea95c689164",
     "grade": false,
     "grade_id": "join9_a",
     "locked": false,
     "solution": true
    }
   },
   "outputs": [
    {
     "name": "stdout",
     "output_type": "stream",
     "text": [
      "1 rows affected.\n"
     ]
    },
    {
     "data": {
      "text/html": [
       "<table>\n",
       "    <tr>\n",
       "        <th>to_char</th>\n",
       "    </tr>\n",
       "    <tr>\n",
       "        <td>&nbsp;&nbsp;88,864.20</td>\n",
       "    </tr>\n",
       "</table>"
      ],
      "text/plain": [
       "[('  88,864.20',)]"
      ]
     },
     "execution_count": 20,
     "metadata": {},
     "output_type": "execute_result"
    }
   ],
   "source": [
    "%%sql\n",
    "\n",
    "SELECT TO_CHAR(AVG(salary), '999,999.99')\n",
    "FROM  departments \n",
    "  NATURAL JOIN dept_emp \n",
    "  NATURAL JOIN employees \n",
    "  JOIN salaries ON employees.emp_no = salaries.emp_no \n",
    "WHERE gender = 'M' and now()<salaries.to_date and now()<dept_emp.to_date \n",
    "AND dept_name = 'Sales';--This is all current female employees currently in research department "
   ]
  },
  {
   "cell_type": "code",
   "execution_count": null,
   "metadata": {
    "deletable": false,
    "nbgrader": {
     "checksum": "cec2773a5c0ea6505d6b7bb83c2c0e63",
     "grade": true,
     "grade_id": "join9_t",
     "locked": true,
     "points": 2,
     "solution": false
    }
   },
   "outputs": [],
   "source": []
  },
  {
   "cell_type": "markdown",
   "metadata": {},
   "source": [
    "### 10. Show the number of males and females in each department.\n",
    "\n",
    "the department names should be sorted and the count of females should be listed before the count of males for each department."
   ]
  },
  {
   "cell_type": "code",
   "execution_count": 21,
   "metadata": {},
   "outputs": [],
   "source": [
    "#all time employees, not just current"
   ]
  },
  {
   "cell_type": "code",
   "execution_count": 22,
   "metadata": {
    "deletable": false,
    "nbgrader": {
     "checksum": "ce7a8da9755fb4442f2b14d88d17e201",
     "grade": false,
     "grade_id": "join10_a",
     "locked": false,
     "solution": true
    }
   },
   "outputs": [
    {
     "name": "stdout",
     "output_type": "stream",
     "text": [
      "18 rows affected.\n"
     ]
    },
    {
     "data": {
      "text/html": [
       "<table>\n",
       "    <tr>\n",
       "        <th>dept_name</th>\n",
       "        <th>gender</th>\n",
       "        <th>count</th>\n",
       "    </tr>\n",
       "    <tr>\n",
       "        <td>Customer Service</td>\n",
       "        <td>F</td>\n",
       "        <td>7007</td>\n",
       "    </tr>\n",
       "    <tr>\n",
       "        <td>Customer Service</td>\n",
       "        <td>M</td>\n",
       "        <td>10562</td>\n",
       "    </tr>\n",
       "    <tr>\n",
       "        <td>Development</td>\n",
       "        <td>F</td>\n",
       "        <td>24533</td>\n",
       "    </tr>\n",
       "    <tr>\n",
       "        <td>Development</td>\n",
       "        <td>M</td>\n",
       "        <td>36853</td>\n",
       "    </tr>\n",
       "    <tr>\n",
       "        <td>Finance</td>\n",
       "        <td>F</td>\n",
       "        <td>5014</td>\n",
       "    </tr>\n",
       "    <tr>\n",
       "        <td>Finance</td>\n",
       "        <td>M</td>\n",
       "        <td>7423</td>\n",
       "    </tr>\n",
       "    <tr>\n",
       "        <td>Human Resources</td>\n",
       "        <td>F</td>\n",
       "        <td>5147</td>\n",
       "    </tr>\n",
       "    <tr>\n",
       "        <td>Human Resources</td>\n",
       "        <td>M</td>\n",
       "        <td>7751</td>\n",
       "    </tr>\n",
       "    <tr>\n",
       "        <td>Marketing</td>\n",
       "        <td>F</td>\n",
       "        <td>5864</td>\n",
       "    </tr>\n",
       "    <tr>\n",
       "        <td>Marketing</td>\n",
       "        <td>M</td>\n",
       "        <td>8978</td>\n",
       "    </tr>\n",
       "    <tr>\n",
       "        <td>Production</td>\n",
       "        <td>F</td>\n",
       "        <td>21393</td>\n",
       "    </tr>\n",
       "    <tr>\n",
       "        <td>Production</td>\n",
       "        <td>M</td>\n",
       "        <td>31911</td>\n",
       "    </tr>\n",
       "    <tr>\n",
       "        <td>Quality Management</td>\n",
       "        <td>F</td>\n",
       "        <td>5872</td>\n",
       "    </tr>\n",
       "    <tr>\n",
       "        <td>Quality Management</td>\n",
       "        <td>M</td>\n",
       "        <td>8674</td>\n",
       "    </tr>\n",
       "    <tr>\n",
       "        <td>Research</td>\n",
       "        <td>F</td>\n",
       "        <td>6181</td>\n",
       "    </tr>\n",
       "    <tr>\n",
       "        <td>Research</td>\n",
       "        <td>M</td>\n",
       "        <td>9260</td>\n",
       "    </tr>\n",
       "    <tr>\n",
       "        <td>Sales</td>\n",
       "        <td>F</td>\n",
       "        <td>14999</td>\n",
       "    </tr>\n",
       "    <tr>\n",
       "        <td>Sales</td>\n",
       "        <td>M</td>\n",
       "        <td>22702</td>\n",
       "    </tr>\n",
       "</table>"
      ],
      "text/plain": [
       "[('Customer Service', 'F', 7007),\n",
       " ('Customer Service', 'M', 10562),\n",
       " ('Development', 'F', 24533),\n",
       " ('Development', 'M', 36853),\n",
       " ('Finance', 'F', 5014),\n",
       " ('Finance', 'M', 7423),\n",
       " ('Human Resources', 'F', 5147),\n",
       " ('Human Resources', 'M', 7751),\n",
       " ('Marketing', 'F', 5864),\n",
       " ('Marketing', 'M', 8978),\n",
       " ('Production', 'F', 21393),\n",
       " ('Production', 'M', 31911),\n",
       " ('Quality Management', 'F', 5872),\n",
       " ('Quality Management', 'M', 8674),\n",
       " ('Research', 'F', 6181),\n",
       " ('Research', 'M', 9260),\n",
       " ('Sales', 'F', 14999),\n",
       " ('Sales', 'M', 22702)]"
      ]
     },
     "execution_count": 22,
     "metadata": {},
     "output_type": "execute_result"
    }
   ],
   "source": [
    "%%sql\n",
    "\n",
    "SELECT dept_name, gender, COUNT(*) \n",
    "FROM departments NATURAL JOIN dept_emp NATURAL JOIN employees\n",
    "WHERE now()<to_date\n",
    "GROUP BY dept_name, gender\n",
    "ORDER BY dept_name, gender; -- current employees"
   ]
  },
  {
   "cell_type": "code",
   "execution_count": null,
   "metadata": {
    "deletable": false,
    "nbgrader": {
     "checksum": "38ebf048ba18a1c54c3e75cddce7f06a",
     "grade": true,
     "grade_id": "join10_t",
     "locked": true,
     "points": 2,
     "solution": false
    }
   },
   "outputs": [],
   "source": []
  }
 ],
 "metadata": {
  "kernelspec": {
   "display_name": "Python 3",
   "language": "python",
   "name": "python3"
  },
  "language_info": {
   "codemirror_mode": {
    "name": "ipython",
    "version": 3
   },
   "file_extension": ".py",
   "mimetype": "text/x-python",
   "name": "python",
   "nbconvert_exporter": "python",
   "pygments_lexer": "ipython3",
   "version": "3.5.1"
  }
 },
 "nbformat": 4,
 "nbformat_minor": 1
}
